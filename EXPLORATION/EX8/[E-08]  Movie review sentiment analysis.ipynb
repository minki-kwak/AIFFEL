{
 "cells": [
  {
   "cell_type": "markdown",
   "id": "b4b7023e",
   "metadata": {},
   "source": [
    "## 목적 : 네이버 영화리뷰 감성분석 도전하기"
   ]
  },
  {
   "cell_type": "code",
   "execution_count": 1,
   "id": "8c4138af",
   "metadata": {},
   "outputs": [
    {
     "name": "stdout",
     "output_type": "stream",
     "text": [
      "1.3.3\n",
      "0.5.2\n",
      "4.1.2\n"
     ]
    }
   ],
   "source": [
    "# 사용할 라이브러리 버전 확인\n",
    "import pandas\n",
    "import konlpy\n",
    "import gensim\n",
    "\n",
    "print(pandas.__version__)\n",
    "print(konlpy.__version__)\n",
    "print(gensim.__version__)"
   ]
  },
  {
   "cell_type": "code",
   "execution_count": 2,
   "id": "7591b021",
   "metadata": {},
   "outputs": [
    {
     "data": {
      "text/html": [
       "<div>\n",
       "<style scoped>\n",
       "    .dataframe tbody tr th:only-of-type {\n",
       "        vertical-align: middle;\n",
       "    }\n",
       "\n",
       "    .dataframe tbody tr th {\n",
       "        vertical-align: top;\n",
       "    }\n",
       "\n",
       "    .dataframe thead th {\n",
       "        text-align: right;\n",
       "    }\n",
       "</style>\n",
       "<table border=\"1\" class=\"dataframe\">\n",
       "  <thead>\n",
       "    <tr style=\"text-align: right;\">\n",
       "      <th></th>\n",
       "      <th>id</th>\n",
       "      <th>document</th>\n",
       "      <th>label</th>\n",
       "    </tr>\n",
       "  </thead>\n",
       "  <tbody>\n",
       "    <tr>\n",
       "      <th>0</th>\n",
       "      <td>9976970</td>\n",
       "      <td>아 더빙.. 진짜 짜증나네요 목소리</td>\n",
       "      <td>0</td>\n",
       "    </tr>\n",
       "    <tr>\n",
       "      <th>1</th>\n",
       "      <td>3819312</td>\n",
       "      <td>흠...포스터보고 초딩영화줄....오버연기조차 가볍지 않구나</td>\n",
       "      <td>1</td>\n",
       "    </tr>\n",
       "    <tr>\n",
       "      <th>2</th>\n",
       "      <td>10265843</td>\n",
       "      <td>너무재밓었다그래서보는것을추천한다</td>\n",
       "      <td>0</td>\n",
       "    </tr>\n",
       "    <tr>\n",
       "      <th>3</th>\n",
       "      <td>9045019</td>\n",
       "      <td>교도소 이야기구먼 ..솔직히 재미는 없다..평점 조정</td>\n",
       "      <td>0</td>\n",
       "    </tr>\n",
       "    <tr>\n",
       "      <th>4</th>\n",
       "      <td>6483659</td>\n",
       "      <td>사이몬페그의 익살스런 연기가 돋보였던 영화!스파이더맨에서 늙어보이기만 했던 커스틴 ...</td>\n",
       "      <td>1</td>\n",
       "    </tr>\n",
       "  </tbody>\n",
       "</table>\n",
       "</div>"
      ],
      "text/plain": [
       "         id                                           document  label\n",
       "0   9976970                                아 더빙.. 진짜 짜증나네요 목소리      0\n",
       "1   3819312                  흠...포스터보고 초딩영화줄....오버연기조차 가볍지 않구나      1\n",
       "2  10265843                                  너무재밓었다그래서보는것을추천한다      0\n",
       "3   9045019                      교도소 이야기구먼 ..솔직히 재미는 없다..평점 조정      0\n",
       "4   6483659  사이몬페그의 익살스런 연기가 돋보였던 영화!스파이더맨에서 늙어보이기만 했던 커스틴 ...      1"
      ]
     },
     "execution_count": 2,
     "metadata": {},
     "output_type": "execute_result"
    }
   ],
   "source": [
    "# 데이터 준비와 확인\n",
    "import pandas as pd\n",
    "\n",
    "# 데이터를 읽어봅시다. \n",
    "train_data = pd.read_table('~/aiffel/sentiment_classification/data/ratings_train.txt')\n",
    "test_data = pd.read_table('~/aiffel/sentiment_classification/data/ratings_test.txt')\n",
    "\n",
    "train_data.head()"
   ]
  },
  {
   "cell_type": "code",
   "execution_count": 3,
   "id": "05928e45",
   "metadata": {},
   "outputs": [],
   "source": [
    "# 데이터로더 구성\n",
    "from konlpy.tag import Mecab\n",
    "import numpy as np\n",
    "from collections import Counter\n",
    "\n",
    "tokenizer = Mecab()\n",
    "stopwords = ['의','가','이','은','들','는','좀','잘','걍','과','도','를','으로','자','에','와','한','하다']\n",
    "\n",
    "def load_data(train_data, test_data, num_words=10000):\n",
    "    train_data.drop_duplicates(subset=['document'], inplace=True)\n",
    "    train_data = train_data.dropna(how = 'any') \n",
    "    test_data.drop_duplicates(subset=['document'], inplace=True)\n",
    "    test_data = test_data.dropna(how = 'any') \n",
    "    \n",
    "    X_train = []\n",
    "    for sentence in train_data['document']:\n",
    "        temp_X = tokenizer.morphs(sentence) # 토큰화\n",
    "        temp_X = [word for word in temp_X if not word in stopwords] # 불용어 제거\n",
    "        X_train.append(temp_X)\n",
    "\n",
    "    X_test = []\n",
    "    for sentence in test_data['document']:\n",
    "        temp_X = tokenizer.morphs(sentence) # 토큰화\n",
    "        temp_X = [word for word in temp_X if not word in stopwords] # 불용어 제거\n",
    "        X_test.append(temp_X)\n",
    "    \n",
    "    words = np.concatenate(X_train).tolist()\n",
    "    counter = Counter(words)\n",
    "    counter = counter.most_common(10000-4)\n",
    "    vocab = ['<PAD>', '<BOS>', '<UNK>', '<UNUSED>'] + [key for key, _ in counter]\n",
    "    word_to_index = {word:index for index, word in enumerate(vocab)}\n",
    "        \n",
    "    def wordlist_to_indexlist(wordlist):\n",
    "        return [word_to_index[word] if word in word_to_index else word_to_index['<UNK>'] for word in wordlist]\n",
    "        \n",
    "    X_train = list(map(wordlist_to_indexlist, X_train))\n",
    "    X_test = list(map(wordlist_to_indexlist, X_test))\n",
    "        \n",
    "    return X_train, np.array(list(train_data['label'])), X_test, np.array(list(test_data['label'])), word_to_index\n",
    "    \n",
    "X_train, y_train, X_test, y_test, word_to_index = load_data(train_data, test_data) "
   ]
  },
  {
   "cell_type": "code",
   "execution_count": 4,
   "id": "29cea1d6",
   "metadata": {},
   "outputs": [],
   "source": [
    "index_to_word = {index:word for word, index in word_to_index.items()}"
   ]
  },
  {
   "cell_type": "code",
   "execution_count": 5,
   "id": "138cf851",
   "metadata": {},
   "outputs": [],
   "source": [
    "# 문장 1개를 활용할 딕셔너리와 함께 주면, 단어 인덱스 리스트 벡터로 변환해 주는 함수입니다. \n",
    "# 단, 모든 문장은 <BOS>로 시작하는 것으로 합니다. \n",
    "def get_encoded_sentence(sentence, word_to_index):\n",
    "    return [word_to_index['<BOS>']]+[word_to_index[word] if word in word_to_index else word_to_index['<UNK>'] for word in sentence.split()]\n",
    "\n",
    "# 여러 개의 문장 리스트를 한꺼번에 단어 인덱스 리스트 벡터로 encode해 주는 함수입니다. \n",
    "def get_encoded_sentences(sentences, word_to_index):\n",
    "    return [get_encoded_sentence(sentence, word_to_index) for sentence in sentences]\n",
    "\n",
    "# 숫자 벡터로 encode된 문장을 원래대로 decode하는 함수입니다. \n",
    "def get_decoded_sentence(encoded_sentence, index_to_word):\n",
    "    return ' '.join(index_to_word[index] if index in index_to_word else '<UNK>' for index in encoded_sentence[1:])  #[1:]를 통해 <BOS>를 제외\n",
    "\n",
    "# 여러 개의 숫자 벡터로 encode된 문장을 한꺼번에 원래대로 decode하는 함수입니다. \n",
    "def get_decoded_sentences(encoded_sentences, index_to_word):\n",
    "    return [get_decoded_sentence(encoded_sentence, index_to_word) for encoded_sentence in encoded_sentences]"
   ]
  },
  {
   "cell_type": "code",
   "execution_count": 6,
   "id": "c5aff4d0",
   "metadata": {},
   "outputs": [
    {
     "name": "stdout",
     "output_type": "stream",
     "text": [
      "문장길이 평균 :  15.96940191154864\n",
      "문장길이 최대 :  116\n",
      "문장길이 표준편차 :  12.843571191092\n",
      "pad_sequences maxlen :  41\n",
      "전체 문장의 0.9342988343341575%가 maxlen 설정값 이내에 포함됩니다. \n"
     ]
    }
   ],
   "source": [
    "total_data_text = list(X_train) + list(X_test)\n",
    "# 텍스트데이터 문장길이의 리스트를 생성한 후\n",
    "num_tokens = [len(tokens) for tokens in total_data_text]\n",
    "num_tokens = np.array(num_tokens)\n",
    "# 문장길이의 평균값, 최대값, 표준편차를 계산해 본다. \n",
    "print('문장길이 평균 : ', np.mean(num_tokens))\n",
    "print('문장길이 최대 : ', np.max(num_tokens))\n",
    "print('문장길이 표준편차 : ', np.std(num_tokens))\n",
    "\n",
    "# 예를들어, 최대 길이를 (평균 + 2*표준편차)로 한다면,  \n",
    "max_tokens = np.mean(num_tokens) + 2 * np.std(num_tokens)\n",
    "maxlen = int(max_tokens)\n",
    "print('pad_sequences maxlen : ', maxlen)\n",
    "print('전체 문장의 {}%가 maxlen 설정값 이내에 포함됩니다. '.format(np.sum(num_tokens < max_tokens) / len(num_tokens)))"
   ]
  },
  {
   "cell_type": "code",
   "execution_count": 7,
   "id": "816135fb",
   "metadata": {},
   "outputs": [
    {
     "name": "stdout",
     "output_type": "stream",
     "text": [
      "(146182, 41)\n"
     ]
    }
   ],
   "source": [
    "import tensorflow as tf\n",
    "\n",
    "x_train = tf.keras.preprocessing.sequence.pad_sequences(X_train,\n",
    "                                                        value=word_to_index[\"<PAD>\"],\n",
    "                                                        padding='pre',\n",
    "                                                        maxlen=maxlen)\n",
    "\n",
    "x_test = tf.keras.preprocessing.sequence.pad_sequences(X_test,\n",
    "                                                       value=word_to_index[\"<PAD>\"],\n",
    "                                                       padding='pre',\n",
    "                                                       maxlen=maxlen)\n",
    "\n",
    "print(x_train.shape)"
   ]
  },
  {
   "cell_type": "markdown",
   "id": "0c80c5f0",
   "metadata": {},
   "source": [
    "### RNN 모델"
   ]
  },
  {
   "cell_type": "code",
   "execution_count": 8,
   "id": "41f0a852",
   "metadata": {},
   "outputs": [
    {
     "name": "stdout",
     "output_type": "stream",
     "text": [
      "Model: \"sequential\"\n",
      "_________________________________________________________________\n",
      "Layer (type)                 Output Shape              Param #   \n",
      "=================================================================\n",
      "embedding (Embedding)        (None, None, 16)          160000    \n",
      "_________________________________________________________________\n",
      "lstm (LSTM)                  (None, 8)                 800       \n",
      "_________________________________________________________________\n",
      "dense (Dense)                (None, 8)                 72        \n",
      "_________________________________________________________________\n",
      "dense_1 (Dense)              (None, 1)                 9         \n",
      "=================================================================\n",
      "Total params: 160,881\n",
      "Trainable params: 160,881\n",
      "Non-trainable params: 0\n",
      "_________________________________________________________________\n"
     ]
    }
   ],
   "source": [
    "vocab_size = 10000    # 어휘 사전의 크기입니다(10,000개의 단어)\n",
    "word_vector_dim = 16  # 워드 벡터의 차원 수 (변경 가능한 하이퍼파라미터)\n",
    "\n",
    "# model 설계 - 딥러닝 모델 코드를 직접 작성해 주세요.\n",
    "model = tf.keras.Sequential()\n",
    "model.add(tf.keras.layers.Embedding(vocab_size, word_vector_dim, input_shape=(None,)))\n",
    "model.add(tf.keras.layers.LSTM(8))   # 가장 널리 쓰이는 RNN인 LSTM 레이어를 사용하였습니다. 이때 LSTM state 벡터의 차원수는 8로 하였습니다. (변경 가능)\n",
    "model.add(tf.keras.layers.Dense(8, activation='relu'))\n",
    "model.add(tf.keras.layers.Dense(1, activation='sigmoid'))  # 최종 출력은 긍정/부정을 나타내는 1dim 입니다.\n",
    "\n",
    "model.summary()"
   ]
  },
  {
   "cell_type": "code",
   "execution_count": 9,
   "id": "e3aec01c",
   "metadata": {},
   "outputs": [
    {
     "name": "stdout",
     "output_type": "stream",
     "text": [
      "(106182, 41)\n",
      "(106182,)\n"
     ]
    }
   ],
   "source": [
    "# validation set 40000건 분리\n",
    "x_val = x_train[:40000]   \n",
    "y_val = y_train[:40000]\n",
    "\n",
    "# validation set을 제외한 나머지\n",
    "partial_x_train = x_train[40000:]  \n",
    "partial_y_train = y_train[40000:]\n",
    "\n",
    "print(partial_x_train.shape)\n",
    "print(partial_y_train.shape)"
   ]
  },
  {
   "cell_type": "code",
   "execution_count": 10,
   "id": "b8c70025",
   "metadata": {},
   "outputs": [
    {
     "name": "stdout",
     "output_type": "stream",
     "text": [
      "Epoch 1/15\n",
      "208/208 [==============================] - 24s 8ms/step - loss: 0.5080 - accuracy: 0.7729 - val_loss: 0.3717 - val_accuracy: 0.8410\n",
      "Epoch 2/15\n",
      "208/208 [==============================] - 1s 6ms/step - loss: 0.3444 - accuracy: 0.8551 - val_loss: 0.3503 - val_accuracy: 0.8497\n",
      "Epoch 3/15\n",
      "208/208 [==============================] - 1s 6ms/step - loss: 0.3193 - accuracy: 0.8676 - val_loss: 0.3588 - val_accuracy: 0.8439\n",
      "Epoch 4/15\n",
      "208/208 [==============================] - 1s 6ms/step - loss: 0.3065 - accuracy: 0.8729 - val_loss: 0.3498 - val_accuracy: 0.8492\n",
      "Epoch 5/15\n",
      "208/208 [==============================] - 1s 6ms/step - loss: 0.2972 - accuracy: 0.8775 - val_loss: 0.3494 - val_accuracy: 0.8486\n",
      "Epoch 6/15\n",
      "208/208 [==============================] - 1s 6ms/step - loss: 0.2881 - accuracy: 0.8822 - val_loss: 0.3535 - val_accuracy: 0.8480\n",
      "Epoch 7/15\n",
      "208/208 [==============================] - 1s 6ms/step - loss: 0.2794 - accuracy: 0.8851 - val_loss: 0.3566 - val_accuracy: 0.8482\n",
      "Epoch 8/15\n",
      "208/208 [==============================] - 1s 6ms/step - loss: 0.2691 - accuracy: 0.8903 - val_loss: 0.3630 - val_accuracy: 0.8468\n",
      "Epoch 9/15\n",
      "208/208 [==============================] - 1s 6ms/step - loss: 0.2596 - accuracy: 0.8938 - val_loss: 0.3733 - val_accuracy: 0.8463\n",
      "Epoch 10/15\n",
      "208/208 [==============================] - 1s 6ms/step - loss: 0.2495 - accuracy: 0.8991 - val_loss: 0.3710 - val_accuracy: 0.8473\n",
      "Epoch 11/15\n",
      "208/208 [==============================] - 1s 6ms/step - loss: 0.2398 - accuracy: 0.9031 - val_loss: 0.3889 - val_accuracy: 0.8471\n",
      "Epoch 12/15\n",
      "208/208 [==============================] - 1s 6ms/step - loss: 0.2312 - accuracy: 0.9062 - val_loss: 0.3957 - val_accuracy: 0.8460\n",
      "Epoch 13/15\n",
      "208/208 [==============================] - 1s 6ms/step - loss: 0.2229 - accuracy: 0.9105 - val_loss: 0.4227 - val_accuracy: 0.8436\n",
      "Epoch 14/15\n",
      "208/208 [==============================] - 1s 6ms/step - loss: 0.2140 - accuracy: 0.9149 - val_loss: 0.4142 - val_accuracy: 0.8439\n",
      "Epoch 15/15\n",
      "208/208 [==============================] - 1s 6ms/step - loss: 0.2079 - accuracy: 0.9176 - val_loss: 0.4398 - val_accuracy: 0.8431\n"
     ]
    }
   ],
   "source": [
    "# 모델 훈련\n",
    "model.compile(optimizer='adam',\n",
    "              loss='binary_crossentropy',\n",
    "              metrics=['accuracy'])\n",
    "              \n",
    "epochs=15  # 몇 epoch를 훈련하면 좋을지 결과를 보면서 바꾸어 봅시다. \n",
    "\n",
    "history = model.fit(partial_x_train,\n",
    "                    partial_y_train,\n",
    "                    epochs=epochs,\n",
    "                    batch_size=512,\n",
    "                    validation_data=(x_val, y_val),\n",
    "                    verbose=1)"
   ]
  },
  {
   "cell_type": "code",
   "execution_count": 11,
   "id": "bc2b40ae",
   "metadata": {},
   "outputs": [
    {
     "name": "stdout",
     "output_type": "stream",
     "text": [
      "1537/1537 - 3s - loss: 0.4460 - accuracy: 0.8377\n",
      "[0.44595974683761597, 0.8376629948616028]\n"
     ]
    }
   ],
   "source": [
    "results = model.evaluate(x_test,  y_test, verbose=2)\n",
    "\n",
    "print(results)"
   ]
  },
  {
   "cell_type": "code",
   "execution_count": 12,
   "id": "827c3a1f",
   "metadata": {},
   "outputs": [
    {
     "name": "stdout",
     "output_type": "stream",
     "text": [
      "dict_keys(['loss', 'accuracy', 'val_loss', 'val_accuracy'])\n"
     ]
    }
   ],
   "source": [
    "history_dict = history.history\n",
    "print(history_dict.keys()) # epoch에 따른 그래프를 그려볼 수 있는 항목들"
   ]
  },
  {
   "cell_type": "code",
   "execution_count": 13,
   "id": "3def9aa6",
   "metadata": {},
   "outputs": [
    {
     "data": {
      "image/png": "[encoded data removed]",
      "text/plain": [
       "<Figure size 432x288 with 1 Axes>"
      ]
     },
     "metadata": {
      "needs_background": "light"
     },
     "output_type": "display_data"
    }
   ],
   "source": [
    "# Loss, Accuracy 그래프 시각화\n",
    "import matplotlib.pyplot as plt\n",
    "\n",
    "acc = history_dict['accuracy']\n",
    "val_acc = history_dict['val_accuracy']\n",
    "loss = history_dict['loss']\n",
    "val_loss = history_dict['val_loss']\n",
    "\n",
    "epochs = range(1, len(acc) + 1)\n",
    "\n",
    "# \"bo\"는 \"파란색 점\"입니다\n",
    "plt.plot(epochs, loss, 'bo', label='Training loss')\n",
    "# b는 \"파란 실선\"입니다\n",
    "plt.plot(epochs, val_loss, 'b', label='Validation loss')\n",
    "plt.title('Training and validation loss')\n",
    "plt.xlabel('Epochs')\n",
    "plt.ylabel('Loss')\n",
    "plt.legend()\n",
    "\n",
    "plt.show()"
   ]
  },
  {
   "cell_type": "code",
   "execution_count": 14,
   "id": "184e2974",
   "metadata": {},
   "outputs": [
    {
     "data": {
      "image/png": "[encoded data removed]",
      "text/plain": [
       "<Figure size 432x288 with 1 Axes>"
      ]
     },
     "metadata": {
      "needs_background": "light"
     },
     "output_type": "display_data"
    }
   ],
   "source": [
    "plt.clf()   # 그림을 초기화합니다\n",
    "\n",
    "plt.plot(epochs, acc, 'bo', label='Training acc')\n",
    "plt.plot(epochs, val_acc, 'b', label='Validation acc')\n",
    "plt.title('Training and validation accuracy')\n",
    "plt.xlabel('Epochs')\n",
    "plt.ylabel('Accuracy')\n",
    "plt.legend()\n",
    "\n",
    "plt.show()"
   ]
  },
  {
   "cell_type": "code",
   "execution_count": 15,
   "id": "3aa70022",
   "metadata": {},
   "outputs": [
    {
     "name": "stdout",
     "output_type": "stream",
     "text": [
      "(10000, 16)\n"
     ]
    }
   ],
   "source": [
    "# 학습된 Embedding 레이어 분석\n",
    "embedding_layer = model.layers[0]\n",
    "weights = embedding_layer.get_weights()[0]\n",
    "print(weights.shape)    # shape: (vocab_size, embedding_dim)"
   ]
  },
  {
   "cell_type": "code",
   "execution_count": 16,
   "id": "27030bb7",
   "metadata": {},
   "outputs": [],
   "source": [
    "# 학습한 Embedding 파라미터를 파일에 써서 저장합니다. \n",
    "import os\n",
    "word2vec_file_path = os.getenv('HOME')+'/aiffel/sentiment_classification/data/word2vec.txt'\n",
    "f = open(word2vec_file_path, 'w')\n",
    "f.write('{} {}\\n'.format(vocab_size-4, word_vector_dim))  # 몇개의 벡터를 얼마 사이즈로 기재할지 타이틀을 씁니다.\n",
    "\n",
    "# 단어 개수(에서 특수문자 4개는 제외하고)만큼의 워드 벡터를 파일에 기록합니다. \n",
    "vectors = model.get_weights()[0]\n",
    "for i in range(4,vocab_size):\n",
    "    f.write('{} {}\\n'.format(index_to_word[i], ' '.join(map(str, list(vectors[i, :])))))\n",
    "f.close()"
   ]
  },
  {
   "cell_type": "code",
   "execution_count": 17,
   "id": "2bb1dd04",
   "metadata": {},
   "outputs": [
    {
     "data": {
      "text/plain": [
       "array([ 0.01209878,  0.12193312, -0.02532627,  0.12591591,  0.04210785,\n",
       "        0.00894265, -0.0743772 , -0.01753911, -0.08413924, -0.0213413 ,\n",
       "       -0.05255919, -0.00525878,  0.03626252,  0.02232199, -0.0268458 ,\n",
       "        0.0244294 ], dtype=float32)"
      ]
     },
     "execution_count": 17,
     "metadata": {},
     "output_type": "execute_result"
    }
   ],
   "source": [
    "from gensim.models.keyedvectors import Word2VecKeyedVectors\n",
    "\n",
    "word_vectors = Word2VecKeyedVectors.load_word2vec_format(word2vec_file_path, binary=False)\n",
    "vector = word_vectors['재미']\n",
    "vector"
   ]
  },
  {
   "cell_type": "code",
   "execution_count": 18,
   "id": "14406336",
   "metadata": {},
   "outputs": [
    {
     "data": {
      "text/plain": [
       "[('넘', 0.8205456733703613),\n",
       " ('클라스', 0.8111249804496765),\n",
       " ('너무나', 0.8091899752616882),\n",
       " ('어스', 0.8037257194519043),\n",
       " ('특색', 0.801766574382782),\n",
       " ('너무', 0.7987340092658997),\n",
       " ('지극히', 0.7942426800727844),\n",
       " ('완전', 0.7822526693344116),\n",
       " ('이렇게', 0.7803407311439514),\n",
       " ('타리', 0.7735151648521423)]"
      ]
     },
     "execution_count": 18,
     "metadata": {},
     "output_type": "execute_result"
    }
   ],
   "source": [
    "word_vectors.similar_by_word(\"재미\")"
   ]
  },
  {
   "cell_type": "markdown",
   "id": "0bcabc79",
   "metadata": {},
   "source": [
    "### 1-D Convolution Neural Network(1-D CNN) 모델"
   ]
  },
  {
   "cell_type": "code",
   "execution_count": 19,
   "id": "699c1d5e",
   "metadata": {},
   "outputs": [
    {
     "name": "stdout",
     "output_type": "stream",
     "text": [
      "Model: \"sequential_1\"\n",
      "_________________________________________________________________\n",
      "Layer (type)                 Output Shape              Param #   \n",
      "=================================================================\n",
      "embedding_1 (Embedding)      (None, None, 16)          160000    \n",
      "_________________________________________________________________\n",
      "conv1d (Conv1D)              (None, None, 16)          1808      \n",
      "_________________________________________________________________\n",
      "max_pooling1d (MaxPooling1D) (None, None, 16)          0         \n",
      "_________________________________________________________________\n",
      "conv1d_1 (Conv1D)            (None, None, 16)          1808      \n",
      "_________________________________________________________________\n",
      "global_max_pooling1d (Global (None, 16)                0         \n",
      "_________________________________________________________________\n",
      "dense_2 (Dense)              (None, 8)                 136       \n",
      "_________________________________________________________________\n",
      "dense_3 (Dense)              (None, 1)                 9         \n",
      "=================================================================\n",
      "Total params: 163,761\n",
      "Trainable params: 163,761\n",
      "Non-trainable params: 0\n",
      "_________________________________________________________________\n"
     ]
    }
   ],
   "source": [
    "vocab_size = 10000  # 어휘 사전의 크기입니다(10,000개의 단어)\n",
    "word_vector_dim = 16   # 단어 하나를 표현하는 임베딩 벡터의 차원 수입니다. \n",
    "\n",
    "model = tf.keras.Sequential()\n",
    "model.add(tf.keras.layers.Embedding(vocab_size, word_vector_dim, input_shape=(None,)))\n",
    "model.add(tf.keras.layers.Conv1D(16, 7, activation='relu'))\n",
    "model.add(tf.keras.layers.MaxPooling1D(5))\n",
    "model.add(tf.keras.layers.Conv1D(16, 7, activation='relu'))\n",
    "model.add(tf.keras.layers.GlobalMaxPooling1D())\n",
    "model.add(tf.keras.layers.Dense(8, activation='relu'))\n",
    "model.add(tf.keras.layers.Dense(1, activation='sigmoid'))  # 최종 출력은 긍정/부정을 나타내는 1dim 입니다.\n",
    "\n",
    "model.summary()"
   ]
  },
  {
   "cell_type": "code",
   "execution_count": 20,
   "id": "7c17d5b2",
   "metadata": {},
   "outputs": [
    {
     "name": "stdout",
     "output_type": "stream",
     "text": [
      "(106182, 41)\n",
      "(106182,)\n"
     ]
    }
   ],
   "source": [
    "# validation set 40000건 분리\n",
    "x_val = x_train[:40000]   \n",
    "y_val = y_train[:40000]\n",
    "\n",
    "# validation set을 제외한 나머지 \n",
    "partial_x_train = x_train[40000:]  \n",
    "partial_y_train = y_train[40000:]\n",
    "\n",
    "print(partial_x_train.shape)\n",
    "print(partial_y_train.shape)"
   ]
  },
  {
   "cell_type": "code",
   "execution_count": 21,
   "id": "47dbb9fe",
   "metadata": {},
   "outputs": [
    {
     "name": "stdout",
     "output_type": "stream",
     "text": [
      "Epoch 1/15\n",
      "208/208 [==============================] - 14s 7ms/step - loss: 0.5010 - accuracy: 0.7518 - val_loss: 0.3606 - val_accuracy: 0.8437\n",
      "Epoch 2/15\n",
      "208/208 [==============================] - 1s 5ms/step - loss: 0.3313 - accuracy: 0.8590 - val_loss: 0.3438 - val_accuracy: 0.8515\n",
      "Epoch 3/15\n",
      "208/208 [==============================] - 1s 5ms/step - loss: 0.2961 - accuracy: 0.8765 - val_loss: 0.3461 - val_accuracy: 0.8520\n",
      "Epoch 4/15\n",
      "208/208 [==============================] - 1s 5ms/step - loss: 0.2686 - accuracy: 0.8902 - val_loss: 0.3481 - val_accuracy: 0.8525\n",
      "Epoch 5/15\n",
      "208/208 [==============================] - 1s 5ms/step - loss: 0.2397 - accuracy: 0.9047 - val_loss: 0.3648 - val_accuracy: 0.8510\n",
      "Epoch 6/15\n",
      "208/208 [==============================] - 1s 5ms/step - loss: 0.2091 - accuracy: 0.9199 - val_loss: 0.3827 - val_accuracy: 0.8456\n",
      "Epoch 7/15\n",
      "208/208 [==============================] - 1s 5ms/step - loss: 0.1748 - accuracy: 0.9360 - val_loss: 0.4171 - val_accuracy: 0.8421\n",
      "Epoch 8/15\n",
      "208/208 [==============================] - 1s 5ms/step - loss: 0.1441 - accuracy: 0.9494 - val_loss: 0.4618 - val_accuracy: 0.8371\n",
      "Epoch 9/15\n",
      "208/208 [==============================] - 1s 5ms/step - loss: 0.1195 - accuracy: 0.9590 - val_loss: 0.5234 - val_accuracy: 0.8380\n",
      "Epoch 10/15\n",
      "208/208 [==============================] - 1s 5ms/step - loss: 0.0979 - accuracy: 0.9684 - val_loss: 0.5688 - val_accuracy: 0.8338\n",
      "Epoch 11/15\n",
      "208/208 [==============================] - 1s 5ms/step - loss: 0.0834 - accuracy: 0.9737 - val_loss: 0.6163 - val_accuracy: 0.8332\n",
      "Epoch 12/15\n",
      "208/208 [==============================] - 1s 5ms/step - loss: 0.0714 - accuracy: 0.9780 - val_loss: 0.6619 - val_accuracy: 0.8293\n",
      "Epoch 13/15\n",
      "208/208 [==============================] - 1s 5ms/step - loss: 0.0613 - accuracy: 0.9820 - val_loss: 0.7197 - val_accuracy: 0.8263\n",
      "Epoch 14/15\n",
      "208/208 [==============================] - 1s 5ms/step - loss: 0.0533 - accuracy: 0.9847 - val_loss: 0.7780 - val_accuracy: 0.8250\n",
      "Epoch 15/15\n",
      "208/208 [==============================] - 1s 5ms/step - loss: 0.0478 - accuracy: 0.9866 - val_loss: 0.8368 - val_accuracy: 0.8243\n"
     ]
    }
   ],
   "source": [
    "# 모델 훈련\n",
    "model.compile(optimizer='adam',\n",
    "              loss='binary_crossentropy',\n",
    "              metrics=['accuracy'])\n",
    "              \n",
    "epochs=15  # 몇 epoch를 훈련하면 좋을지 결과를 보면서 바꾸어 봅시다. \n",
    "\n",
    "history = model.fit(partial_x_train,\n",
    "                    partial_y_train,\n",
    "                    epochs=epochs,\n",
    "                    batch_size=512,\n",
    "                    validation_data=(x_val, y_val),\n",
    "                    verbose=1)"
   ]
  },
  {
   "cell_type": "code",
   "execution_count": 22,
   "id": "2249c45a",
   "metadata": {},
   "outputs": [
    {
     "name": "stdout",
     "output_type": "stream",
     "text": [
      "1537/1537 - 3s - loss: 0.8651 - accuracy: 0.8177\n",
      "[0.8651334047317505, 0.8177268505096436]\n"
     ]
    }
   ],
   "source": [
    "results = model.evaluate(x_test,  y_test, verbose=2)\n",
    "\n",
    "print(results)"
   ]
  },
  {
   "cell_type": "code",
   "execution_count": 23,
   "id": "04871842",
   "metadata": {},
   "outputs": [
    {
     "data": {
      "image/png": "[encoded data removed]",
      "text/plain": [
       "<Figure size 432x288 with 1 Axes>"
      ]
     },
     "metadata": {
      "needs_background": "light"
     },
     "output_type": "display_data"
    }
   ],
   "source": [
    "# Loss, Accuracy 그래프 시각화\n",
    "import matplotlib.pyplot as plt\n",
    "\n",
    "acc = history_dict['accuracy']\n",
    "val_acc = history_dict['val_accuracy']\n",
    "loss = history_dict['loss']\n",
    "val_loss = history_dict['val_loss']\n",
    "\n",
    "epochs = range(1, len(acc) + 1)\n",
    "\n",
    "# \"bo\"는 \"파란색 점\"입니다\n",
    "plt.plot(epochs, loss, 'bo', label='Training loss')\n",
    "# b는 \"파란 실선\"입니다\n",
    "plt.plot(epochs, val_loss, 'b', label='Validation loss')\n",
    "plt.title('Training and validation loss')\n",
    "plt.xlabel('Epochs')\n",
    "plt.ylabel('Loss')\n",
    "plt.legend()\n",
    "\n",
    "plt.show()"
   ]
  },
  {
   "cell_type": "code",
   "execution_count": 24,
   "id": "160d2b64",
   "metadata": {},
   "outputs": [
    {
     "data": {
      "image/png": "[encoded data removed]",
      "text/plain": [
       "<Figure size 432x288 with 1 Axes>"
      ]
     },
     "metadata": {
      "needs_background": "light"
     },
     "output_type": "display_data"
    }
   ],
   "source": [
    "plt.clf()   # 그림을 초기화합니다\n",
    "\n",
    "plt.plot(epochs, acc, 'bo', label='Training acc')\n",
    "plt.plot(epochs, val_acc, 'b', label='Validation acc')\n",
    "plt.title('Training and validation accuracy')\n",
    "plt.xlabel('Epochs')\n",
    "plt.ylabel('Accuracy')\n",
    "plt.legend()\n",
    "\n",
    "plt.show()"
   ]
  },
  {
   "cell_type": "code",
   "execution_count": 25,
   "id": "c0e2ea75",
   "metadata": {},
   "outputs": [
    {
     "name": "stdout",
     "output_type": "stream",
     "text": [
      "(10000, 16)\n"
     ]
    }
   ],
   "source": [
    "# 학습된 Embedding 레이어 분석\n",
    "embedding_layer = model.layers[0]\n",
    "weights = embedding_layer.get_weights()[0]\n",
    "print(weights.shape)    # shape: (vocab_size, embedding_dim)"
   ]
  },
  {
   "cell_type": "code",
   "execution_count": 26,
   "id": "eb112fc2",
   "metadata": {},
   "outputs": [],
   "source": [
    "# 학습한 Embedding 파라미터를 파일에 써서 저장합니다. \n",
    "word2vec_file_path = os.getenv('HOME')+'/aiffel/sentiment_classification/data/word2vec.txt'\n",
    "f = open(word2vec_file_path, 'w')\n",
    "f.write('{} {}\\n'.format(vocab_size-4, word_vector_dim))  # 몇개의 벡터를 얼마 사이즈로 기재할지 타이틀을 씁니다.\n",
    "\n",
    "# 단어 개수(에서 특수문자 4개는 제외하고)만큼의 워드 벡터를 파일에 기록합니다. \n",
    "vectors = model.get_weights()[0]\n",
    "for i in range(4,vocab_size):\n",
    "    f.write('{} {}\\n'.format(index_to_word[i], ' '.join(map(str, list(vectors[i, :])))))\n",
    "f.close()"
   ]
  },
  {
   "cell_type": "code",
   "execution_count": 27,
   "id": "bdf8f508",
   "metadata": {},
   "outputs": [
    {
     "data": {
      "text/plain": [
       "array([-0.18082795, -0.04292393,  0.06724203,  0.053313  ,  0.04171894,\n",
       "       -0.04894951,  0.04847364,  0.06057163,  0.13998435,  0.11369449,\n",
       "       -0.06780887, -0.02345042,  0.06046154,  0.03370677,  0.02593365,\n",
       "        0.00856256], dtype=float32)"
      ]
     },
     "execution_count": 27,
     "metadata": {},
     "output_type": "execute_result"
    }
   ],
   "source": [
    "from gensim.models.keyedvectors import Word2VecKeyedVectors\n",
    "\n",
    "word_vectors = Word2VecKeyedVectors.load_word2vec_format(word2vec_file_path, binary=False)\n",
    "vector = word_vectors['재미']\n",
    "vector"
   ]
  },
  {
   "cell_type": "code",
   "execution_count": 28,
   "id": "163ddab9",
   "metadata": {},
   "outputs": [
    {
     "data": {
      "text/plain": [
       "[('ㄴ', 0.8456705212593079),\n",
       " ('아아아', 0.8402509689331055),\n",
       " ('젤', 0.8239538669586182),\n",
       " ('글로리아', 0.81868976354599),\n",
       " ('진', 0.8174690008163452),\n",
       " ('설렘', 0.8135358095169067),\n",
       " ('럽', 0.7990531325340271),\n",
       " ('땡기', 0.7955758571624756),\n",
       " ('정말', 0.7859002351760864),\n",
       " ('으로부터', 0.784127950668335)]"
      ]
     },
     "execution_count": 28,
     "metadata": {},
     "output_type": "execute_result"
    }
   ],
   "source": [
    "word_vectors.similar_by_word(\"재미\")"
   ]
  },
  {
   "cell_type": "markdown",
   "id": "b45a01c9",
   "metadata": {},
   "source": [
    "### GlobalMaxPooling1D( ) 모델"
   ]
  },
  {
   "cell_type": "code",
   "execution_count": 29,
   "id": "5c4d4a72",
   "metadata": {},
   "outputs": [
    {
     "name": "stdout",
     "output_type": "stream",
     "text": [
      "Model: \"sequential_2\"\n",
      "_________________________________________________________________\n",
      "Layer (type)                 Output Shape              Param #   \n",
      "=================================================================\n",
      "embedding_2 (Embedding)      (None, None, 16)          160000    \n",
      "_________________________________________________________________\n",
      "global_max_pooling1d_1 (Glob (None, 16)                0         \n",
      "_________________________________________________________________\n",
      "dense_4 (Dense)              (None, 8)                 136       \n",
      "_________________________________________________________________\n",
      "dense_5 (Dense)              (None, 1)                 9         \n",
      "=================================================================\n",
      "Total params: 160,145\n",
      "Trainable params: 160,145\n",
      "Non-trainable params: 0\n",
      "_________________________________________________________________\n"
     ]
    }
   ],
   "source": [
    "vocab_size = 10000  # 어휘 사전의 크기입니다(10,000개의 단어)\n",
    "word_vector_dim = 16   # 단어 하나를 표현하는 임베딩 벡터의 차원 수입니다. \n",
    "\n",
    "model = tf.keras.Sequential()\n",
    "model.add(tf.keras.layers.Embedding(vocab_size, word_vector_dim, input_shape=(None,)))\n",
    "model.add(tf.keras.layers.GlobalMaxPooling1D())\n",
    "model.add(tf.keras.layers.Dense(8, activation='relu'))\n",
    "model.add(tf.keras.layers.Dense(1, activation='sigmoid'))  # 최종 출력은 긍정/부정을 나타내는 1dim 입니다.\n",
    "\n",
    "model.summary()"
   ]
  },
  {
   "cell_type": "code",
   "execution_count": 30,
   "id": "39b24d8d",
   "metadata": {},
   "outputs": [
    {
     "name": "stdout",
     "output_type": "stream",
     "text": [
      "(106182, 41)\n",
      "(106182,)\n"
     ]
    }
   ],
   "source": [
    "# validation set 40000건 분리\n",
    "x_val = x_train[:40000]   \n",
    "y_val = y_train[:40000]\n",
    "\n",
    "# validation set을 제외한 나머지 \n",
    "partial_x_train = x_train[40000:]  \n",
    "partial_y_train = y_train[40000:]\n",
    "\n",
    "print(partial_x_train.shape)\n",
    "print(partial_y_train.shape)"
   ]
  },
  {
   "cell_type": "code",
   "execution_count": 31,
   "id": "1796c35a",
   "metadata": {},
   "outputs": [
    {
     "name": "stdout",
     "output_type": "stream",
     "text": [
      "Epoch 1/15\n",
      "208/208 [==============================] - 1s 4ms/step - loss: 0.6257 - accuracy: 0.6941 - val_loss: 0.5047 - val_accuracy: 0.8058\n",
      "Epoch 2/15\n",
      "208/208 [==============================] - 1s 4ms/step - loss: 0.4156 - accuracy: 0.8319 - val_loss: 0.3763 - val_accuracy: 0.8346\n",
      "Epoch 3/15\n",
      "208/208 [==============================] - 1s 4ms/step - loss: 0.3420 - accuracy: 0.8553 - val_loss: 0.3578 - val_accuracy: 0.8425\n",
      "Epoch 4/15\n",
      "208/208 [==============================] - 1s 4ms/step - loss: 0.3112 - accuracy: 0.8700 - val_loss: 0.3547 - val_accuracy: 0.8446\n",
      "Epoch 5/15\n",
      "208/208 [==============================] - 1s 4ms/step - loss: 0.2898 - accuracy: 0.8801 - val_loss: 0.3566 - val_accuracy: 0.8457\n",
      "Epoch 6/15\n",
      "208/208 [==============================] - 1s 4ms/step - loss: 0.2726 - accuracy: 0.8880 - val_loss: 0.3616 - val_accuracy: 0.8452\n",
      "Epoch 7/15\n",
      "208/208 [==============================] - 1s 4ms/step - loss: 0.2580 - accuracy: 0.8963 - val_loss: 0.3690 - val_accuracy: 0.8438\n",
      "Epoch 8/15\n",
      "208/208 [==============================] - 1s 4ms/step - loss: 0.2456 - accuracy: 0.9014 - val_loss: 0.3772 - val_accuracy: 0.8427\n",
      "Epoch 9/15\n",
      "208/208 [==============================] - 1s 4ms/step - loss: 0.2347 - accuracy: 0.9065 - val_loss: 0.3857 - val_accuracy: 0.8419\n",
      "Epoch 10/15\n",
      "208/208 [==============================] - 1s 4ms/step - loss: 0.2247 - accuracy: 0.9112 - val_loss: 0.3959 - val_accuracy: 0.8404\n",
      "Epoch 11/15\n",
      "208/208 [==============================] - 1s 4ms/step - loss: 0.2159 - accuracy: 0.9155 - val_loss: 0.4065 - val_accuracy: 0.8382\n",
      "Epoch 12/15\n",
      "208/208 [==============================] - 1s 4ms/step - loss: 0.2078 - accuracy: 0.9198 - val_loss: 0.4172 - val_accuracy: 0.8376\n",
      "Epoch 13/15\n",
      "208/208 [==============================] - 1s 4ms/step - loss: 0.2002 - accuracy: 0.9230 - val_loss: 0.4271 - val_accuracy: 0.8359\n",
      "Epoch 14/15\n",
      "208/208 [==============================] - 1s 4ms/step - loss: 0.1931 - accuracy: 0.9264 - val_loss: 0.4397 - val_accuracy: 0.8349\n",
      "Epoch 15/15\n",
      "208/208 [==============================] - 1s 4ms/step - loss: 0.1866 - accuracy: 0.9298 - val_loss: 0.4499 - val_accuracy: 0.8332\n"
     ]
    }
   ],
   "source": [
    "# 모델 훈련\n",
    "model.compile(optimizer='adam',\n",
    "              loss='binary_crossentropy',\n",
    "              metrics=['accuracy'])\n",
    "              \n",
    "epochs=15  # 몇 epoch를 훈련하면 좋을지 결과를 보면서 바꾸어 봅시다. \n",
    "\n",
    "history = model.fit(partial_x_train,\n",
    "                    partial_y_train,\n",
    "                    epochs=epochs,\n",
    "                    batch_size=512,\n",
    "                    validation_data=(x_val, y_val),\n",
    "                    verbose=1)"
   ]
  },
  {
   "cell_type": "code",
   "execution_count": 32,
   "id": "b7bedbe2",
   "metadata": {},
   "outputs": [
    {
     "name": "stdout",
     "output_type": "stream",
     "text": [
      "1537/1537 - 2s - loss: 0.4611 - accuracy: 0.8288\n",
      "[0.4611019492149353, 0.828793466091156]\n"
     ]
    }
   ],
   "source": [
    "results = model.evaluate(x_test,  y_test, verbose=2)\n",
    "\n",
    "print(results)"
   ]
  },
  {
   "cell_type": "code",
   "execution_count": 33,
   "id": "f0f4a293",
   "metadata": {},
   "outputs": [
    {
     "name": "stdout",
     "output_type": "stream",
     "text": [
      "dict_keys(['loss', 'accuracy', 'val_loss', 'val_accuracy'])\n"
     ]
    }
   ],
   "source": [
    "history_dict = history.history\n",
    "print(history_dict.keys()) # epoch에 따른 그래프를 그려볼 수 있는 항목들"
   ]
  },
  {
   "cell_type": "code",
   "execution_count": 34,
   "id": "7b259cfa",
   "metadata": {},
   "outputs": [
    {
     "data": {
      "image/png": "[encoded data removed]",
      "text/plain": [
       "<Figure size 432x288 with 1 Axes>"
      ]
     },
     "metadata": {
      "needs_background": "light"
     },
     "output_type": "display_data"
    }
   ],
   "source": [
    "# Loss, Accuracy 그래프 시각화\n",
    "import matplotlib.pyplot as plt\n",
    "\n",
    "acc = history_dict['accuracy']\n",
    "val_acc = history_dict['val_accuracy']\n",
    "loss = history_dict['loss']\n",
    "val_loss = history_dict['val_loss']\n",
    "\n",
    "epochs = range(1, len(acc) + 1)\n",
    "\n",
    "# \"bo\"는 \"파란색 점\"입니다\n",
    "plt.plot(epochs, loss, 'bo', label='Training loss')\n",
    "# b는 \"파란 실선\"입니다\n",
    "plt.plot(epochs, val_loss, 'b', label='Validation loss')\n",
    "plt.title('Training and validation loss')\n",
    "plt.xlabel('Epochs')\n",
    "plt.ylabel('Loss')\n",
    "plt.legend()\n",
    "\n",
    "plt.show()"
   ]
  },
  {
   "cell_type": "code",
   "execution_count": 35,
   "id": "440c1946",
   "metadata": {},
   "outputs": [
    {
     "data": {
      "image/png": "[encoded data removed]",
      "text/plain": [
       "<Figure size 432x288 with 1 Axes>"
      ]
     },
     "metadata": {
      "needs_background": "light"
     },
     "output_type": "display_data"
    }
   ],
   "source": [
    "plt.clf()   # 그림을 초기화합니다\n",
    "\n",
    "plt.plot(epochs, acc, 'bo', label='Training acc')\n",
    "plt.plot(epochs, val_acc, 'b', label='Validation acc')\n",
    "plt.title('Training and validation accuracy')\n",
    "plt.xlabel('Epochs')\n",
    "plt.ylabel('Accuracy')\n",
    "plt.legend()\n",
    "\n",
    "plt.show()"
   ]
  },
  {
   "cell_type": "code",
   "execution_count": 36,
   "id": "4b94fcef",
   "metadata": {},
   "outputs": [
    {
     "name": "stdout",
     "output_type": "stream",
     "text": [
      "(10000, 16)\n"
     ]
    }
   ],
   "source": [
    "# 학습된 Embedding 레이어 분석\n",
    "embedding_layer = model.layers[0]\n",
    "weights = embedding_layer.get_weights()[0]\n",
    "print(weights.shape)    # shape: (vocab_size, embedding_dim)"
   ]
  },
  {
   "cell_type": "code",
   "execution_count": 37,
   "id": "966d44bd",
   "metadata": {},
   "outputs": [],
   "source": [
    "# 학습한 Embedding 파라미터를 파일에 써서 저장합니다. \n",
    "word2vec_file_path = os.getenv('HOME')+'/aiffel/sentiment_classification/data/word2vec.txt'\n",
    "f = open(word2vec_file_path, 'w')\n",
    "f.write('{} {}\\n'.format(vocab_size-4, word_vector_dim))  # 몇개의 벡터를 얼마 사이즈로 기재할지 타이틀을 씁니다.\n",
    "\n",
    "# 단어 개수(에서 특수문자 4개는 제외하고)만큼의 워드 벡터를 파일에 기록합니다. \n",
    "vectors = model.get_weights()[0]\n",
    "for i in range(4,vocab_size):\n",
    "    f.write('{} {}\\n'.format(index_to_word[i], ' '.join(map(str, list(vectors[i, :])))))\n",
    "f.close()"
   ]
  },
  {
   "cell_type": "code",
   "execution_count": 38,
   "id": "20852666",
   "metadata": {},
   "outputs": [
    {
     "data": {
      "text/plain": [
       "array([ 0.07908712, -0.0380395 , -0.15704095,  0.10317864, -0.16499044,\n",
       "       -0.08582383, -0.25075218, -0.00269826, -0.1419763 , -0.12626164,\n",
       "       -0.05226258, -0.1771697 , -0.13566138, -0.16474389, -0.10110728,\n",
       "       -0.01804196], dtype=float32)"
      ]
     },
     "execution_count": 38,
     "metadata": {},
     "output_type": "execute_result"
    }
   ],
   "source": [
    "from gensim.models.keyedvectors import Word2VecKeyedVectors\n",
    "\n",
    "word_vectors = Word2VecKeyedVectors.load_word2vec_format(word2vec_file_path, binary=False)\n",
    "vector = word_vectors['재미']\n",
    "vector"
   ]
  },
  {
   "cell_type": "code",
   "execution_count": 39,
   "id": "387455ae",
   "metadata": {},
   "outputs": [
    {
     "data": {
      "text/plain": [
       "[('남', 0.9168239831924438),\n",
       " ('느껴질', 0.9022979140281677),\n",
       " ('열라', 0.8892644643783569),\n",
       " ('팍팍', 0.8771398663520813),\n",
       " ('확', 0.8722415566444397),\n",
       " ('간', 0.865526556968689),\n",
       " ('오정세', 0.8654088973999023),\n",
       " ('알', 0.8613619208335876),\n",
       " ('힛', 0.8607901930809021),\n",
       " ('전', 0.8605979084968567)]"
      ]
     },
     "execution_count": 39,
     "metadata": {},
     "output_type": "execute_result"
    }
   ],
   "source": [
    "word_vectors.similar_by_word(\"재미\")"
   ]
  },
  {
   "cell_type": "markdown",
   "id": "86a69d49",
   "metadata": {},
   "source": [
    "한국어 Word2Vec 임베딩 활용하여 성능 개선"
   ]
  },
  {
   "cell_type": "code",
   "execution_count": 40,
   "id": "38879733",
   "metadata": {},
   "outputs": [],
   "source": [
    "from gensim.models.keyedvectors import Word2VecKeyedVectors\n",
    "\n",
    "word2vec_file_path = os.getenv('HOME')+'/data/word2vec_ko.model'\n",
    "word2vec = Word2VecKeyedVectors.load(word2vec_file_path)\n",
    "vector = word2vec.wv['재미']"
   ]
  },
  {
   "cell_type": "code",
   "execution_count": 41,
   "id": "9b34e271",
   "metadata": {},
   "outputs": [
    {
     "data": {
      "text/plain": [
       "[('묘미', 0.6163142919540405),\n",
       " ('취미', 0.6034970283508301),\n",
       " ('흥미', 0.5939850211143494),\n",
       " ('유머', 0.5888698101043701),\n",
       " ('보람', 0.5689517259597778),\n",
       " ('즐거움', 0.5631207823753357),\n",
       " ('개그', 0.5552946329116821),\n",
       " ('이야기', 0.5536993741989136),\n",
       " ('연애', 0.552293598651886),\n",
       " ('열의', 0.546456515789032)]"
      ]
     },
     "execution_count": 41,
     "metadata": {},
     "output_type": "execute_result"
    }
   ],
   "source": [
    "# 메모리를 다소 많이 소비하는 작업이니 유의해 주세요.\n",
    "word2vec.wv.similar_by_word(\"재미\")"
   ]
  },
  {
   "cell_type": "code",
   "execution_count": 42,
   "id": "c504c556",
   "metadata": {},
   "outputs": [],
   "source": [
    "vocab_size = 10000    # 어휘 사전의 크기입니다(10,000개의 단어)\n",
    "word_vector_dim = 100  # 워드 벡터의 차원수 (변경가능한 하이퍼파라미터)\n",
    "\n",
    "embedding_matrix = np.random.rand(vocab_size, word_vector_dim)\n",
    "\n",
    "# embedding_matrix에 Word2Vec 워드벡터를 단어 하나씩마다 차례차례 카피한다.\n",
    "for i in range(4, vocab_size):\n",
    "    if index_to_word[i] in word2vec.wv:\n",
    "        embedding_matrix[i] = word2vec.wv[index_to_word[i]]"
   ]
  },
  {
   "cell_type": "code",
   "execution_count": 43,
   "id": "311e6b62",
   "metadata": {},
   "outputs": [
    {
     "name": "stdout",
     "output_type": "stream",
     "text": [
      "Model: \"sequential_3\"\n",
      "_________________________________________________________________\n",
      "Layer (type)                 Output Shape              Param #   \n",
      "=================================================================\n",
      "embedding_3 (Embedding)      (None, 41, 100)           1000000   \n",
      "_________________________________________________________________\n",
      "lstm_1 (LSTM)                (None, 128)               117248    \n",
      "_________________________________________________________________\n",
      "dense_6 (Dense)              (None, 8)                 1032      \n",
      "_________________________________________________________________\n",
      "dense_7 (Dense)              (None, 1)                 9         \n",
      "=================================================================\n",
      "Total params: 1,118,289\n",
      "Trainable params: 1,118,289\n",
      "Non-trainable params: 0\n",
      "_________________________________________________________________\n"
     ]
    }
   ],
   "source": [
    "from tensorflow.keras.initializers import Constant\n",
    "\n",
    "vocab_size = 10000    # 어휘 사전의 크기입니다(10,000개의 단어)\n",
    "word_vector_dim = 100  # 워드 벡터의 차원 수 \n",
    "\n",
    "# 모델 구성\n",
    "model = tf.keras.Sequential()\n",
    "model.add(tf.keras.layers.Embedding(vocab_size, \n",
    "                                 word_vector_dim, \n",
    "                                 embeddings_initializer=Constant(embedding_matrix),  # 카피한 임베딩을 여기서 활용\n",
    "                                 input_length=maxlen, \n",
    "                                 trainable=True))   # trainable을 True로 주면 Fine-tuning\n",
    "\n",
    "model.add(tf.keras.layers.LSTM(128))   # 가장 널리 쓰이는 RNN인 LSTM 레이어를 사용하였습니다. 이때 LSTM state 벡터의 차원수는 8로 하였습니다. (변경 가능)\n",
    "model.add(tf.keras.layers.Dense(8, activation='relu'))\n",
    "model.add(tf.keras.layers.Dense(1, activation='sigmoid'))  # 최종 출력은 긍정/부정을 나타내는 1dim 입니다.\n",
    "\n",
    "model.summary()"
   ]
  },
  {
   "cell_type": "code",
   "execution_count": 44,
   "id": "ed59ac53",
   "metadata": {},
   "outputs": [
    {
     "name": "stdout",
     "output_type": "stream",
     "text": [
      "Epoch 1/10\n",
      "415/415 [==============================] - 5s 8ms/step - loss: 0.4537 - accuracy: 0.7846 - val_loss: 0.3750 - val_accuracy: 0.8334\n",
      "Epoch 2/10\n",
      "415/415 [==============================] - 3s 7ms/step - loss: 0.3363 - accuracy: 0.8519 - val_loss: 0.3366 - val_accuracy: 0.8506\n",
      "Epoch 3/10\n",
      "415/415 [==============================] - 3s 7ms/step - loss: 0.2887 - accuracy: 0.8766 - val_loss: 0.3228 - val_accuracy: 0.8601\n",
      "Epoch 4/10\n",
      "415/415 [==============================] - 3s 7ms/step - loss: 0.2553 - accuracy: 0.8937 - val_loss: 0.3200 - val_accuracy: 0.8630\n",
      "Epoch 5/10\n",
      "415/415 [==============================] - 3s 7ms/step - loss: 0.2262 - accuracy: 0.9072 - val_loss: 0.3320 - val_accuracy: 0.8626\n",
      "Epoch 6/10\n",
      "415/415 [==============================] - 3s 7ms/step - loss: 0.1984 - accuracy: 0.9204 - val_loss: 0.3496 - val_accuracy: 0.8606\n",
      "Epoch 7/10\n",
      "415/415 [==============================] - 3s 7ms/step - loss: 0.1679 - accuracy: 0.9341 - val_loss: 0.3768 - val_accuracy: 0.8604\n",
      "Epoch 8/10\n",
      "415/415 [==============================] - 3s 7ms/step - loss: 0.1436 - accuracy: 0.9447 - val_loss: 0.4115 - val_accuracy: 0.8585\n",
      "Epoch 9/10\n",
      "415/415 [==============================] - 3s 7ms/step - loss: 0.1197 - accuracy: 0.9556 - val_loss: 0.4380 - val_accuracy: 0.8549\n",
      "Epoch 10/10\n",
      "415/415 [==============================] - 3s 7ms/step - loss: 0.0975 - accuracy: 0.9643 - val_loss: 0.5031 - val_accuracy: 0.8531\n"
     ]
    }
   ],
   "source": [
    "# 학습의 진행\n",
    "model.compile(optimizer='adam',\n",
    "              loss='binary_crossentropy',\n",
    "              metrics=['accuracy'])\n",
    "              \n",
    "epochs=10  # 몇 epoch를 훈련하면 좋을지 결과를 보면서 바꾸어 봅시다. \n",
    "\n",
    "history = model.fit(partial_x_train,\n",
    "                    partial_y_train,\n",
    "                    epochs=epochs,\n",
    "                    batch_size=256,\n",
    "                    validation_data=(x_val, y_val),\n",
    "                    verbose=1)"
   ]
  },
  {
   "cell_type": "code",
   "execution_count": 45,
   "id": "774ae64d",
   "metadata": {},
   "outputs": [
    {
     "name": "stdout",
     "output_type": "stream",
     "text": [
      "1537/1537 - 3s - loss: 0.5067 - accuracy: 0.8500\n",
      "[0.5066809058189392, 0.8499501347541809]\n"
     ]
    }
   ],
   "source": [
    "# 테스트셋을 통한 모델 평가\n",
    "results = model.evaluate(x_test,  y_test, verbose=2)\n",
    "\n",
    "print(results)"
   ]
  },
  {
   "cell_type": "markdown",
   "id": "eefe7adf",
   "metadata": {},
   "source": [
    "### 진행 과정\n",
    "\n",
    "   - 데이터 불러오기\n",
    "   - 데이터 전처리 및 train, test 데이터 분리\n",
    "   - 모델 학습\n",
    "        - RNN 모델 -> 정확도 = 0.8394 \n",
    "        - CNN(1-D CNN) 모델 -> 정확도 = 0.8187\n",
    "        - GlobalMaxPooling1D( ) 모델 -> 정확도 = 0.8289\n",
    "        - 정확도만 보면 나쁘지 않다 생각할 수 있지만 유사한 단어와 그 유사도를 확인하면 딱히 유사한 단어를 찾지 못하는 걸 볼 수 있다\n",
    "   - 한국어 Word2Vec 임베딩 활용하여 성능 개선\n",
    "        - 한국어 Word2Vec를 활용하여 단어 유사도를 확인해보니 꽤 유사한 단어를 찾아내는 것을 확인 가능\n",
    "        - 이전 스텝에서 학습했던 모델의 임베딩 레이어를 Word2Vec의 것으로 교체하여 다시 학습\n",
    "        - CNN 모델로 도전 \n",
    "        - batch size를 32, 64, 128, 256, 1024, 2048, 4096으로 시도 -> 정확도가 최대 0.8350\n",
    "        - RNN 모델로 도전\n",
    "        - LSTM state 벡터의 차원수 = 8, batch size = 64, 128으로 시도 -> 정확도 최대 0.8388\n",
    "        .\n",
    "        .\n",
    "        .\n",
    "        - LSTM state 벡터의 차원수 = 64, batch size = 32, 64, 128으로 시도 -> 0.8442\n",
    "        - LSTM state 벡터의 차원수 = 128, batch size = 32, 64, 128, 256으로 시도 -> 0.85"
   ]
  },
  {
   "cell_type": "markdown",
   "id": "c341796c",
   "metadata": {},
   "source": [
    "### 회고\n",
    "    - 처음에 코랩으로 시도했으나 여러 에러 때문에 고생을 함..\n",
    "    - 한국어 Word2Vec을 활용하여 정확도를 85% 이상 달성하기 위해 처음엔 batch size만 바꿈 -> 실패\n",
    "    - LSTM state 벡터의 차원수도 바꿔가며 재시도 -> 성공\n",
    "    - RNN 모델으로 정확도 0.85이상을 도달했기 때문에 딱히 GlobalMaxPooling1D( ) 모델는 시도 x"
   ]
  }
 ],
 "metadata": {
  "kernelspec": {
   "display_name": "Python 3 (ipykernel)",
   "language": "python",
   "name": "python3"
  },
  "language_info": {
   "codemirror_mode": {
    "name": "ipython",
    "version": 3
   },
   "file_extension": ".py",
   "mimetype": "text/x-python",
   "name": "python",
   "nbconvert_exporter": "python",
   "pygments_lexer": "ipython3",
   "version": "3.9.7"
  }
 },
 "nbformat": 4,
 "nbformat_minor": 5
}
