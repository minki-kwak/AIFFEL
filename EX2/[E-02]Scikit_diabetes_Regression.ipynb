{
 "cells": [
  {
   "cell_type": "markdown",
   "id": "b83e19fb",
   "metadata": {},
   "source": [
    "# [E-02] (1) 손수 설계하는 선형회귀, 당뇨병 수치를 맞춰보자!"
   ]
  },
  {
   "cell_type": "markdown",
   "id": "03efa1c3",
   "metadata": {},
   "source": [
    "## 목적 : 환자의 정보가 담긴 데이터를 통해 당뇨병 수치 예측"
   ]
  },
  {
   "cell_type": "code",
   "execution_count": 1,
   "id": "bca869bd",
   "metadata": {},
   "outputs": [],
   "source": [
    "# 당뇨병 데이터 가져오기\n",
    "from sklearn.datasets import load_diabetes\n",
    "\n",
    "diabetes=load_diabetes()"
   ]
  },
  {
   "cell_type": "code",
   "execution_count": 2,
   "id": "f88412e8",
   "metadata": {},
   "outputs": [
    {
     "name": "stdout",
     "output_type": "stream",
     "text": [
      ".. _diabetes_dataset:\n",
      "\n",
      "Diabetes dataset\n",
      "----------------\n",
      "\n",
      "Ten baseline variables, age, sex, body mass index, average blood\n",
      "pressure, and six blood serum measurements were obtained for each of n =\n",
      "442 diabetes patients, as well as the response of interest, a\n",
      "quantitative measure of disease progression one year after baseline.\n",
      "\n",
      "**Data Set Characteristics:**\n",
      "\n",
      "  :Number of Instances: 442\n",
      "\n",
      "  :Number of Attributes: First 10 columns are numeric predictive values\n",
      "\n",
      "  :Target: Column 11 is a quantitative measure of disease progression one year after baseline\n",
      "\n",
      "  :Attribute Information:\n",
      "      - age     age in years\n",
      "      - sex\n",
      "      - bmi     body mass index\n",
      "      - bp      average blood pressure\n",
      "      - s1      tc, total serum cholesterol\n",
      "      - s2      ldl, low-density lipoproteins\n",
      "      - s3      hdl, high-density lipoproteins\n",
      "      - s4      tch, total cholesterol / HDL\n",
      "      - s5      ltg, possibly log of serum triglycerides level\n",
      "      - s6      glu, blood sugar level\n",
      "\n",
      "Note: Each of these 10 feature variables have been mean centered and scaled by the standard deviation times `n_samples` (i.e. the sum of squares of each column totals 1).\n",
      "\n",
      "Source URL:\n",
      "https://www4.stat.ncsu.edu/~boos/var.select/diabetes.html\n",
      "\n",
      "For more information see:\n",
      "Bradley Efron, Trevor Hastie, Iain Johnstone and Robert Tibshirani (2004) \"Least Angle Regression,\" Annals of Statistics (with discussion), 407-499.\n",
      "(https://web.stanford.edu/~hastie/Papers/LARS/LeastAngle_2002.pdf)\n"
     ]
    }
   ],
   "source": [
    "# diabets 데이터에 대한 설명\n",
    "print(diabetes.DESCR)"
   ]
  },
  {
   "cell_type": "code",
   "execution_count": 3,
   "id": "3277b003",
   "metadata": {},
   "outputs": [
    {
     "data": {
      "text/plain": [
       "dict_keys(['data', 'target', 'frame', 'DESCR', 'feature_names', 'data_filename', 'target_filename', 'data_module'])"
      ]
     },
     "execution_count": 3,
     "metadata": {},
     "output_type": "execute_result"
    }
   ],
   "source": [
    "# diabetes에 어떤 값이 있는지 확인\n",
    "diabetes.keys()"
   ]
  },
  {
   "cell_type": "code",
   "execution_count": 4,
   "id": "9df7f9a3",
   "metadata": {},
   "outputs": [
    {
     "data": {
      "text/plain": [
       "['age', 'sex', 'bmi', 'bp', 's1', 's2', 's3', 's4', 's5', 's6']"
      ]
     },
     "execution_count": 4,
     "metadata": {},
     "output_type": "execute_result"
    }
   ],
   "source": [
    "# diabets의 특성 확인\n",
    "diabetes.feature_names"
   ]
  },
  {
   "cell_type": "code",
   "execution_count": 5,
   "id": "5f395f84",
   "metadata": {},
   "outputs": [
    {
     "data": {
      "text/plain": [
       "10"
      ]
     },
     "execution_count": 5,
     "metadata": {},
     "output_type": "execute_result"
    }
   ],
   "source": [
    "# 특성 갯수 확인\n",
    "len(diabetes.feature_names)"
   ]
  },
  {
   "cell_type": "code",
   "execution_count": 6,
   "id": "d6efb149",
   "metadata": {},
   "outputs": [],
   "source": [
    "# data와 target 받아오기\n",
    "df_X=diabetes.data\n",
    "df_y=diabetes.target"
   ]
  },
  {
   "cell_type": "code",
   "execution_count": 7,
   "id": "e5bf7a6c",
   "metadata": {},
   "outputs": [
    {
     "name": "stdout",
     "output_type": "stream",
     "text": [
      "(442, 10)\n",
      "(442,)\n"
     ]
    }
   ],
   "source": [
    "# data와 target 모양 확인\n",
    "print(df_X.shape)\n",
    "print(df_y.shape)"
   ]
  },
  {
   "cell_type": "code",
   "execution_count": 8,
   "id": "63489493",
   "metadata": {},
   "outputs": [],
   "source": [
    "# 모델에 입력할 데이터 X, y 준비하기\n",
    "import numpy as np\n",
    "\n",
    "X = np.array(df_X)\n",
    "y = np.array(df_y)"
   ]
  },
  {
   "cell_type": "code",
   "execution_count": 9,
   "id": "f3dcb472",
   "metadata": {},
   "outputs": [
    {
     "name": "stdout",
     "output_type": "stream",
     "text": [
      "(353, 10) (353,)\n",
      "(89, 10) (89,)\n"
     ]
    }
   ],
   "source": [
    "# train 데이터와 test 데이터로 분리하기\n",
    "from sklearn.model_selection import train_test_split\n",
    "\n",
    "X_train, X_test, y_train, y_test = train_test_split(X, y, test_size=0.2, random_state=42)\n",
    "\n",
    "print(X_train.shape, y_train.shape)\n",
    "print(X_test.shape, y_test.shape)"
   ]
  },
  {
   "cell_type": "code",
   "execution_count": 10,
   "id": "3615aefe",
   "metadata": {},
   "outputs": [],
   "source": [
    "# 입력데이터 개수에 맞는 W, b 준비\n",
    "import numpy as np\n",
    "\n",
    "W = np.random.rand(10)\n",
    "b = np.random.rand()"
   ]
  },
  {
   "cell_type": "code",
   "execution_count": 12,
   "id": "1f89ea32",
   "metadata": {},
   "outputs": [
    {
     "data": {
      "text/plain": [
       "array([0.20653121, 0.64615541, 0.56942914, 0.46535541, 0.82512506,\n",
       "       0.79999258, 0.79523201, 0.3047581 , 0.45349477, 0.11527838])"
      ]
     },
     "execution_count": 12,
     "metadata": {},
     "output_type": "execute_result"
    }
   ],
   "source": [
    "# W 확인\n",
    "W"
   ]
  },
  {
   "cell_type": "code",
   "execution_count": 14,
   "id": "c1a1faf8",
   "metadata": {},
   "outputs": [
    {
     "data": {
      "text/plain": [
       "0.003959080506089729"
      ]
     },
     "execution_count": 14,
     "metadata": {},
     "output_type": "execute_result"
    }
   ],
   "source": [
    "# b 확인\n",
    "b"
   ]
  },
  {
   "cell_type": "code",
   "execution_count": 15,
   "id": "c396777e",
   "metadata": {},
   "outputs": [],
   "source": [
    "# 모델 함수 구현\n",
    "def model(X, W, b):\n",
    "    predictions = 0\n",
    "    for i in range(10):\n",
    "        predictions += X[:, i] * W[i]\n",
    "    predictions += b\n",
    "    return predictions"
   ]
  },
  {
   "cell_type": "code",
   "execution_count": 16,
   "id": "6bda017b",
   "metadata": {},
   "outputs": [],
   "source": [
    "# 손실함수 구현 \n",
    "def MSE(a, b):\n",
    "    mse = ((a - b) ** 2).mean()  # 두 값의 차이의 제곱의 평균\n",
    "    return mse"
   ]
  },
  {
   "cell_type": "code",
   "execution_count": 17,
   "id": "cbab56f2",
   "metadata": {},
   "outputs": [],
   "source": [
    "def loss(X, W, b, y):\n",
    "    predictions = model(X, W, b)\n",
    "    L = MSE(predictions, y)\n",
    "    return L"
   ]
  },
  {
   "cell_type": "code",
   "execution_count": 18,
   "id": "f960d020",
   "metadata": {},
   "outputs": [],
   "source": [
    "# 기울기 함수\n",
    "def gradient(X, W, b, y):\n",
    "    # N은 가중치의 개수\n",
    "    N = len(W)\n",
    "    \n",
    "    # y_pred 준비\n",
    "    y_pred = model(X, W, b)\n",
    "    \n",
    "    # 공식에 맞게 gradient 계산\n",
    "    dW = 1/N * 2 * X.T.dot(y_pred - y)\n",
    "        \n",
    "    # b의 gradient 계산\n",
    "    db = 2 * (y_pred - y).mean()\n",
    "    return dW, db"
   ]
  },
  {
   "cell_type": "code",
   "execution_count": 19,
   "id": "6f65e807",
   "metadata": {},
   "outputs": [
    {
     "name": "stdout",
     "output_type": "stream",
     "text": [
      "dW: [ -60.61058131  -13.7672025  -189.61801023 -142.66355857  -68.18057922\n",
      "  -55.92989971  127.76719092 -139.04995712 -182.89806719 -123.57725363]\n",
      "db: -304.2590501647797\n"
     ]
    }
   ],
   "source": [
    "dW, db = gradient(X, W, b, y)\n",
    "print(\"dW:\", dW)\n",
    "print(\"db:\", db)"
   ]
  },
  {
   "cell_type": "code",
   "execution_count": 20,
   "id": "8217d99a",
   "metadata": {},
   "outputs": [],
   "source": [
    "# 학습률\n",
    "LEARNING_RATE = 0.01"
   ]
  },
  {
   "cell_type": "code",
   "execution_count": 21,
   "id": "62793cff",
   "metadata": {},
   "outputs": [
    {
     "name": "stdout",
     "output_type": "stream",
     "text": [
      "Iteration 10 : Loss 21531.2895\n",
      "Iteration 20 : Loss 16021.0607\n",
      "Iteration 30 : Loss 12292.4448\n",
      "Iteration 40 : Loss 9757.9840\n",
      "Iteration 50 : Loss 8025.0181\n",
      "Iteration 60 : Loss 6830.9699\n",
      "Iteration 70 : Loss 6000.1440\n",
      "Iteration 80 : Loss 5414.8848\n",
      "Iteration 90 : Loss 4996.3207\n",
      "Iteration 100 : Loss 4691.5062\n",
      "Iteration 110 : Loss 4464.8349\n",
      "Iteration 120 : Loss 4292.3046\n",
      "Iteration 130 : Loss 4157.6856\n",
      "Iteration 140 : Loss 4049.9596\n",
      "Iteration 150 : Loss 3961.6084\n",
      "Iteration 160 : Loss 3887.4683\n",
      "Iteration 170 : Loss 3823.9638\n",
      "Iteration 180 : Loss 3768.5939\n",
      "Iteration 190 : Loss 3719.5876\n",
      "Iteration 200 : Loss 3675.6727\n",
      "Iteration 210 : Loss 3635.9199\n",
      "Iteration 220 : Loss 3599.6373\n",
      "Iteration 230 : Loss 3566.2998\n",
      "Iteration 240 : Loss 3535.5000\n",
      "Iteration 250 : Loss 3506.9157\n",
      "Iteration 260 : Loss 3480.2865\n",
      "Iteration 270 : Loss 3455.3984\n",
      "Iteration 280 : Loss 3432.0724\n",
      "Iteration 290 : Loss 3410.1565\n",
      "Iteration 300 : Loss 3389.5205\n",
      "Iteration 310 : Loss 3370.0510\n",
      "Iteration 320 : Loss 3351.6491\n",
      "Iteration 330 : Loss 3334.2276\n",
      "Iteration 340 : Loss 3317.7089\n",
      "Iteration 350 : Loss 3302.0243\n",
      "Iteration 360 : Loss 3287.1119\n",
      "Iteration 370 : Loss 3272.9165\n",
      "Iteration 380 : Loss 3259.3880\n",
      "Iteration 390 : Loss 3246.4815\n",
      "Iteration 400 : Loss 3234.1560\n",
      "Iteration 410 : Loss 3222.3746\n",
      "Iteration 420 : Loss 3211.1033\n",
      "Iteration 430 : Loss 3200.3114\n",
      "Iteration 440 : Loss 3189.9708\n",
      "Iteration 450 : Loss 3180.0556\n",
      "Iteration 460 : Loss 3170.5421\n",
      "Iteration 470 : Loss 3161.4085\n",
      "Iteration 480 : Loss 3152.6347\n",
      "Iteration 490 : Loss 3144.2019\n",
      "Iteration 500 : Loss 3136.0931\n",
      "Iteration 510 : Loss 3128.2921\n",
      "Iteration 520 : Loss 3120.7842\n",
      "Iteration 530 : Loss 3113.5554\n",
      "Iteration 540 : Loss 3106.5929\n",
      "Iteration 550 : Loss 3099.8844\n",
      "Iteration 560 : Loss 3093.4188\n",
      "Iteration 570 : Loss 3087.1852\n",
      "Iteration 580 : Loss 3081.1738\n",
      "Iteration 590 : Loss 3075.3751\n",
      "Iteration 600 : Loss 3069.7801\n",
      "Iteration 610 : Loss 3064.3806\n",
      "Iteration 620 : Loss 3059.1685\n",
      "Iteration 630 : Loss 3054.1364\n",
      "Iteration 640 : Loss 3049.2770\n",
      "Iteration 650 : Loss 3044.5838\n",
      "Iteration 660 : Loss 3040.0501\n",
      "Iteration 670 : Loss 3035.6698\n",
      "Iteration 680 : Loss 3031.4372\n",
      "Iteration 690 : Loss 3027.3467\n",
      "Iteration 700 : Loss 3023.3929\n",
      "Iteration 710 : Loss 3019.5708\n",
      "Iteration 720 : Loss 3015.8755\n",
      "Iteration 730 : Loss 3012.3024\n",
      "Iteration 740 : Loss 3008.8471\n",
      "Iteration 750 : Loss 3005.5053\n",
      "Iteration 760 : Loss 3002.2730\n",
      "Iteration 770 : Loss 2999.1461\n",
      "Iteration 780 : Loss 2996.1210\n",
      "Iteration 790 : Loss 2993.1942\n",
      "Iteration 800 : Loss 2990.3620\n",
      "Iteration 810 : Loss 2987.6213\n",
      "Iteration 820 : Loss 2984.9687\n",
      "Iteration 830 : Loss 2982.4014\n",
      "Iteration 840 : Loss 2979.9162\n",
      "Iteration 850 : Loss 2977.5104\n",
      "Iteration 860 : Loss 2975.1813\n",
      "Iteration 870 : Loss 2972.9262\n",
      "Iteration 880 : Loss 2970.7425\n",
      "Iteration 890 : Loss 2968.6280\n",
      "Iteration 900 : Loss 2966.5801\n",
      "Iteration 910 : Loss 2964.5967\n",
      "Iteration 920 : Loss 2962.6755\n",
      "Iteration 930 : Loss 2960.8146\n",
      "Iteration 940 : Loss 2959.0118\n",
      "Iteration 950 : Loss 2957.2652\n",
      "Iteration 960 : Loss 2955.5729\n",
      "Iteration 970 : Loss 2953.9331\n",
      "Iteration 980 : Loss 2952.3441\n",
      "Iteration 990 : Loss 2950.8042\n",
      "Iteration 1000 : Loss 2949.3118\n",
      "Iteration 1010 : Loss 2947.8652\n",
      "Iteration 1020 : Loss 2946.4630\n",
      "Iteration 1030 : Loss 2945.1037\n",
      "Iteration 1040 : Loss 2943.7859\n",
      "Iteration 1050 : Loss 2942.5083\n",
      "Iteration 1060 : Loss 2941.2695\n",
      "Iteration 1070 : Loss 2940.0682\n",
      "Iteration 1080 : Loss 2938.9033\n",
      "Iteration 1090 : Loss 2937.7735\n",
      "Iteration 1100 : Loss 2936.6777\n",
      "Iteration 1110 : Loss 2935.6149\n",
      "Iteration 1120 : Loss 2934.5839\n",
      "Iteration 1130 : Loss 2933.5837\n",
      "Iteration 1140 : Loss 2932.6133\n",
      "Iteration 1150 : Loss 2931.6718\n",
      "Iteration 1160 : Loss 2930.7582\n",
      "Iteration 1170 : Loss 2929.8717\n",
      "Iteration 1180 : Loss 2929.0114\n",
      "Iteration 1190 : Loss 2928.1763\n",
      "Iteration 1200 : Loss 2927.3659\n",
      "Iteration 1210 : Loss 2926.5792\n",
      "Iteration 1220 : Loss 2925.8154\n",
      "Iteration 1230 : Loss 2925.0740\n",
      "Iteration 1240 : Loss 2924.3541\n",
      "Iteration 1250 : Loss 2923.6551\n",
      "Iteration 1260 : Loss 2922.9764\n",
      "Iteration 1270 : Loss 2922.3172\n",
      "Iteration 1280 : Loss 2921.6770\n",
      "Iteration 1290 : Loss 2921.0552\n",
      "Iteration 1300 : Loss 2920.4512\n",
      "Iteration 1310 : Loss 2919.8645\n",
      "Iteration 1320 : Loss 2919.2945\n",
      "Iteration 1330 : Loss 2918.7407\n",
      "Iteration 1340 : Loss 2918.2025\n",
      "Iteration 1350 : Loss 2917.6796\n",
      "Iteration 1360 : Loss 2917.1714\n",
      "Iteration 1370 : Loss 2916.6775\n",
      "Iteration 1380 : Loss 2916.1975\n",
      "Iteration 1390 : Loss 2915.7308\n",
      "Iteration 1400 : Loss 2915.2772\n",
      "Iteration 1410 : Loss 2914.8362\n",
      "Iteration 1420 : Loss 2914.4074\n",
      "Iteration 1430 : Loss 2913.9905\n",
      "Iteration 1440 : Loss 2913.5850\n",
      "Iteration 1450 : Loss 2913.1907\n",
      "Iteration 1460 : Loss 2912.8072\n",
      "Iteration 1470 : Loss 2912.4342\n",
      "Iteration 1480 : Loss 2912.0713\n",
      "Iteration 1490 : Loss 2911.7183\n",
      "Iteration 1500 : Loss 2911.3749\n",
      "Iteration 1510 : Loss 2911.0407\n",
      "Iteration 1520 : Loss 2910.7155\n",
      "Iteration 1530 : Loss 2910.3991\n",
      "Iteration 1540 : Loss 2910.0911\n",
      "Iteration 1550 : Loss 2909.7913\n",
      "Iteration 1560 : Loss 2909.4995\n",
      "Iteration 1570 : Loss 2909.2154\n",
      "Iteration 1580 : Loss 2908.9389\n",
      "Iteration 1590 : Loss 2908.6696\n",
      "Iteration 1600 : Loss 2908.4074\n",
      "Iteration 1610 : Loss 2908.1520\n",
      "Iteration 1620 : Loss 2907.9034\n",
      "Iteration 1630 : Loss 2907.6611\n",
      "Iteration 1640 : Loss 2907.4252\n",
      "Iteration 1650 : Loss 2907.1954\n",
      "Iteration 1660 : Loss 2906.9714\n",
      "Iteration 1670 : Loss 2906.7532\n",
      "Iteration 1680 : Loss 2906.5406\n",
      "Iteration 1690 : Loss 2906.3334\n",
      "Iteration 1700 : Loss 2906.1315\n",
      "Iteration 1710 : Loss 2905.9347\n",
      "Iteration 1720 : Loss 2905.7428\n",
      "Iteration 1730 : Loss 2905.5558\n",
      "Iteration 1740 : Loss 2905.3734\n",
      "Iteration 1750 : Loss 2905.1956\n",
      "Iteration 1760 : Loss 2905.0223\n",
      "Iteration 1770 : Loss 2904.8532\n",
      "Iteration 1780 : Loss 2904.6883\n",
      "Iteration 1790 : Loss 2904.5274\n",
      "Iteration 1800 : Loss 2904.3705\n",
      "Iteration 1810 : Loss 2904.2174\n",
      "Iteration 1820 : Loss 2904.0680\n",
      "Iteration 1830 : Loss 2903.9223\n",
      "Iteration 1840 : Loss 2903.7800\n",
      "Iteration 1850 : Loss 2903.6412\n",
      "Iteration 1860 : Loss 2903.5057\n",
      "Iteration 1870 : Loss 2903.3735\n",
      "Iteration 1880 : Loss 2903.2444\n",
      "Iteration 1890 : Loss 2903.1183\n",
      "Iteration 1900 : Loss 2902.9952\n",
      "Iteration 1910 : Loss 2902.8750\n",
      "Iteration 1920 : Loss 2902.7576\n",
      "Iteration 1930 : Loss 2902.6429\n",
      "Iteration 1940 : Loss 2902.5309\n",
      "Iteration 1950 : Loss 2902.4215\n",
      "Iteration 1960 : Loss 2902.3146\n",
      "Iteration 1970 : Loss 2902.2101\n",
      "Iteration 1980 : Loss 2902.1081\n",
      "Iteration 1990 : Loss 2902.0083\n",
      "Iteration 2000 : Loss 2901.9108\n",
      "Iteration 2010 : Loss 2901.8155\n",
      "Iteration 2020 : Loss 2901.7223\n",
      "Iteration 2030 : Loss 2901.6312\n",
      "Iteration 2040 : Loss 2901.5421\n",
      "Iteration 2050 : Loss 2901.4550\n",
      "Iteration 2060 : Loss 2901.3697\n",
      "Iteration 2070 : Loss 2901.2864\n",
      "Iteration 2080 : Loss 2901.2049\n",
      "Iteration 2090 : Loss 2901.1251\n",
      "Iteration 2100 : Loss 2901.0471\n",
      "Iteration 2110 : Loss 2900.9707\n",
      "Iteration 2120 : Loss 2900.8960\n",
      "Iteration 2130 : Loss 2900.8228\n",
      "Iteration 2140 : Loss 2900.7512\n",
      "Iteration 2150 : Loss 2900.6811\n",
      "Iteration 2160 : Loss 2900.6125\n",
      "Iteration 2170 : Loss 2900.5453\n",
      "Iteration 2180 : Loss 2900.4795\n",
      "Iteration 2190 : Loss 2900.4150\n",
      "Iteration 2200 : Loss 2900.3519\n",
      "Iteration 2210 : Loss 2900.2901\n",
      "Iteration 2220 : Loss 2900.2295\n",
      "Iteration 2230 : Loss 2900.1701\n",
      "Iteration 2240 : Loss 2900.1119\n",
      "Iteration 2250 : Loss 2900.0549\n",
      "Iteration 2260 : Loss 2899.9990\n",
      "Iteration 2270 : Loss 2899.9442\n",
      "Iteration 2280 : Loss 2899.8905\n",
      "Iteration 2290 : Loss 2899.8379\n",
      "Iteration 2300 : Loss 2899.7862\n",
      "Iteration 2310 : Loss 2899.7356\n",
      "Iteration 2320 : Loss 2899.6859\n",
      "Iteration 2330 : Loss 2899.6372\n",
      "Iteration 2340 : Loss 2899.5894\n",
      "Iteration 2350 : Loss 2899.5425\n",
      "Iteration 2360 : Loss 2899.4964\n",
      "Iteration 2370 : Loss 2899.4513\n",
      "Iteration 2380 : Loss 2899.4069\n",
      "Iteration 2390 : Loss 2899.3634\n",
      "Iteration 2400 : Loss 2899.3207\n",
      "Iteration 2410 : Loss 2899.2787\n",
      "Iteration 2420 : Loss 2899.2375\n",
      "Iteration 2430 : Loss 2899.1970\n",
      "Iteration 2440 : Loss 2899.1573\n",
      "Iteration 2450 : Loss 2899.1183\n",
      "Iteration 2460 : Loss 2899.0799\n",
      "Iteration 2470 : Loss 2899.0422\n",
      "Iteration 2480 : Loss 2899.0052\n",
      "Iteration 2490 : Loss 2898.9688\n",
      "Iteration 2500 : Loss 2898.9330\n",
      "Iteration 2510 : Loss 2898.8978\n",
      "Iteration 2520 : Loss 2898.8632\n",
      "Iteration 2530 : Loss 2898.8292\n",
      "Iteration 2540 : Loss 2898.7957\n",
      "Iteration 2550 : Loss 2898.7629\n",
      "Iteration 2560 : Loss 2898.7305\n",
      "Iteration 2570 : Loss 2898.6987\n",
      "Iteration 2580 : Loss 2898.6673\n",
      "Iteration 2590 : Loss 2898.6365\n",
      "Iteration 2600 : Loss 2898.6062\n",
      "Iteration 2610 : Loss 2898.5763\n",
      "Iteration 2620 : Loss 2898.5469\n",
      "Iteration 2630 : Loss 2898.5180\n",
      "Iteration 2640 : Loss 2898.4895\n",
      "Iteration 2650 : Loss 2898.4614\n",
      "Iteration 2660 : Loss 2898.4338\n",
      "Iteration 2670 : Loss 2898.4065\n",
      "Iteration 2680 : Loss 2898.3797\n",
      "Iteration 2690 : Loss 2898.3533\n",
      "Iteration 2700 : Loss 2898.3273\n",
      "Iteration 2710 : Loss 2898.3016\n",
      "Iteration 2720 : Loss 2898.2763\n",
      "Iteration 2730 : Loss 2898.2514\n",
      "Iteration 2740 : Loss 2898.2268\n",
      "Iteration 2750 : Loss 2898.2025\n",
      "Iteration 2760 : Loss 2898.1786\n",
      "Iteration 2770 : Loss 2898.1551\n",
      "Iteration 2780 : Loss 2898.1318\n",
      "Iteration 2790 : Loss 2898.1089\n",
      "Iteration 2800 : Loss 2898.0862\n",
      "Iteration 2810 : Loss 2898.0639\n",
      "Iteration 2820 : Loss 2898.0418\n",
      "Iteration 2830 : Loss 2898.0201\n",
      "Iteration 2840 : Loss 2897.9986\n",
      "Iteration 2850 : Loss 2897.9774\n",
      "Iteration 2860 : Loss 2897.9565\n",
      "Iteration 2870 : Loss 2897.9358\n",
      "Iteration 2880 : Loss 2897.9154\n"
     ]
    },
    {
     "name": "stdout",
     "output_type": "stream",
     "text": [
      "Iteration 2890 : Loss 2897.8952\n",
      "Iteration 2900 : Loss 2897.8753\n",
      "Iteration 2910 : Loss 2897.8556\n",
      "Iteration 2920 : Loss 2897.8361\n",
      "Iteration 2930 : Loss 2897.8169\n",
      "Iteration 2940 : Loss 2897.7979\n",
      "Iteration 2950 : Loss 2897.7791\n",
      "Iteration 2960 : Loss 2897.7606\n",
      "Iteration 2970 : Loss 2897.7422\n",
      "Iteration 2980 : Loss 2897.7241\n",
      "Iteration 2990 : Loss 2897.7061\n",
      "Iteration 3000 : Loss 2897.6883\n",
      "Iteration 3010 : Loss 2897.6708\n",
      "Iteration 3020 : Loss 2897.6534\n",
      "Iteration 3030 : Loss 2897.6362\n",
      "Iteration 3040 : Loss 2897.6192\n",
      "Iteration 3050 : Loss 2897.6024\n",
      "Iteration 3060 : Loss 2897.5857\n",
      "Iteration 3070 : Loss 2897.5692\n",
      "Iteration 3080 : Loss 2897.5529\n",
      "Iteration 3090 : Loss 2897.5367\n",
      "Iteration 3100 : Loss 2897.5207\n",
      "Iteration 3110 : Loss 2897.5049\n",
      "Iteration 3120 : Loss 2897.4892\n",
      "Iteration 3130 : Loss 2897.4736\n",
      "Iteration 3140 : Loss 2897.4582\n",
      "Iteration 3150 : Loss 2897.4429\n",
      "Iteration 3160 : Loss 2897.4278\n",
      "Iteration 3170 : Loss 2897.4128\n",
      "Iteration 3180 : Loss 2897.3979\n",
      "Iteration 3190 : Loss 2897.3832\n",
      "Iteration 3200 : Loss 2897.3686\n",
      "Iteration 3210 : Loss 2897.3541\n",
      "Iteration 3220 : Loss 2897.3398\n",
      "Iteration 3230 : Loss 2897.3256\n",
      "Iteration 3240 : Loss 2897.3114\n",
      "Iteration 3250 : Loss 2897.2974\n",
      "Iteration 3260 : Loss 2897.2836\n",
      "Iteration 3270 : Loss 2897.2698\n",
      "Iteration 3280 : Loss 2897.2561\n",
      "Iteration 3290 : Loss 2897.2426\n",
      "Iteration 3300 : Loss 2897.2291\n",
      "Iteration 3310 : Loss 2897.2157\n",
      "Iteration 3320 : Loss 2897.2025\n",
      "Iteration 3330 : Loss 2897.1893\n",
      "Iteration 3340 : Loss 2897.1763\n",
      "Iteration 3350 : Loss 2897.1633\n",
      "Iteration 3360 : Loss 2897.1504\n",
      "Iteration 3370 : Loss 2897.1376\n",
      "Iteration 3380 : Loss 2897.1249\n",
      "Iteration 3390 : Loss 2897.1123\n",
      "Iteration 3400 : Loss 2897.0998\n",
      "Iteration 3410 : Loss 2897.0873\n",
      "Iteration 3420 : Loss 2897.0750\n",
      "Iteration 3430 : Loss 2897.0627\n",
      "Iteration 3440 : Loss 2897.0505\n",
      "Iteration 3450 : Loss 2897.0384\n",
      "Iteration 3460 : Loss 2897.0263\n",
      "Iteration 3470 : Loss 2897.0143\n",
      "Iteration 3480 : Loss 2897.0024\n",
      "Iteration 3490 : Loss 2896.9906\n",
      "Iteration 3500 : Loss 2896.9788\n",
      "Iteration 3510 : Loss 2896.9671\n",
      "Iteration 3520 : Loss 2896.9555\n",
      "Iteration 3530 : Loss 2896.9439\n",
      "Iteration 3540 : Loss 2896.9324\n",
      "Iteration 3550 : Loss 2896.9210\n",
      "Iteration 3560 : Loss 2896.9096\n",
      "Iteration 3570 : Loss 2896.8983\n",
      "Iteration 3580 : Loss 2896.8870\n",
      "Iteration 3590 : Loss 2896.8758\n",
      "Iteration 3600 : Loss 2896.8647\n",
      "Iteration 3610 : Loss 2896.8536\n",
      "Iteration 3620 : Loss 2896.8426\n",
      "Iteration 3630 : Loss 2896.8316\n",
      "Iteration 3640 : Loss 2896.8207\n",
      "Iteration 3650 : Loss 2896.8098\n",
      "Iteration 3660 : Loss 2896.7990\n",
      "Iteration 3670 : Loss 2896.7882\n",
      "Iteration 3680 : Loss 2896.7775\n",
      "Iteration 3690 : Loss 2896.7668\n",
      "Iteration 3700 : Loss 2896.7562\n",
      "Iteration 3710 : Loss 2896.7456\n",
      "Iteration 3720 : Loss 2896.7351\n",
      "Iteration 3730 : Loss 2896.7246\n",
      "Iteration 3740 : Loss 2896.7141\n",
      "Iteration 3750 : Loss 2896.7037\n",
      "Iteration 3760 : Loss 2896.6933\n",
      "Iteration 3770 : Loss 2896.6830\n",
      "Iteration 3780 : Loss 2896.6727\n",
      "Iteration 3790 : Loss 2896.6625\n",
      "Iteration 3800 : Loss 2896.6523\n",
      "Iteration 3810 : Loss 2896.6421\n",
      "Iteration 3820 : Loss 2896.6320\n",
      "Iteration 3830 : Loss 2896.6219\n",
      "Iteration 3840 : Loss 2896.6119\n",
      "Iteration 3850 : Loss 2896.6018\n",
      "Iteration 3860 : Loss 2896.5918\n",
      "Iteration 3870 : Loss 2896.5819\n",
      "Iteration 3880 : Loss 2896.5720\n",
      "Iteration 3890 : Loss 2896.5621\n",
      "Iteration 3900 : Loss 2896.5522\n",
      "Iteration 3910 : Loss 2896.5424\n",
      "Iteration 3920 : Loss 2896.5326\n",
      "Iteration 3930 : Loss 2896.5229\n",
      "Iteration 3940 : Loss 2896.5132\n",
      "Iteration 3950 : Loss 2896.5035\n",
      "Iteration 3960 : Loss 2896.4938\n",
      "Iteration 3970 : Loss 2896.4842\n",
      "Iteration 3980 : Loss 2896.4745\n",
      "Iteration 3990 : Loss 2896.4650\n",
      "Iteration 4000 : Loss 2896.4554\n",
      "Iteration 4010 : Loss 2896.4459\n",
      "Iteration 4020 : Loss 2896.4364\n",
      "Iteration 4030 : Loss 2896.4269\n",
      "Iteration 4040 : Loss 2896.4174\n",
      "Iteration 4050 : Loss 2896.4080\n",
      "Iteration 4060 : Loss 2896.3986\n",
      "Iteration 4070 : Loss 2896.3892\n",
      "Iteration 4080 : Loss 2896.3799\n",
      "Iteration 4090 : Loss 2896.3705\n",
      "Iteration 4100 : Loss 2896.3612\n",
      "Iteration 4110 : Loss 2896.3519\n",
      "Iteration 4120 : Loss 2896.3427\n",
      "Iteration 4130 : Loss 2896.3334\n",
      "Iteration 4140 : Loss 2896.3242\n",
      "Iteration 4150 : Loss 2896.3150\n",
      "Iteration 4160 : Loss 2896.3058\n",
      "Iteration 4170 : Loss 2896.2967\n",
      "Iteration 4180 : Loss 2896.2875\n",
      "Iteration 4190 : Loss 2896.2784\n",
      "Iteration 4200 : Loss 2896.2693\n",
      "Iteration 4210 : Loss 2896.2602\n",
      "Iteration 4220 : Loss 2896.2512\n",
      "Iteration 4230 : Loss 2896.2421\n",
      "Iteration 4240 : Loss 2896.2331\n",
      "Iteration 4250 : Loss 2896.2241\n",
      "Iteration 4260 : Loss 2896.2151\n",
      "Iteration 4270 : Loss 2896.2061\n",
      "Iteration 4280 : Loss 2896.1971\n",
      "Iteration 4290 : Loss 2896.1882\n",
      "Iteration 4300 : Loss 2896.1793\n",
      "Iteration 4310 : Loss 2896.1704\n",
      "Iteration 4320 : Loss 2896.1615\n",
      "Iteration 4330 : Loss 2896.1526\n",
      "Iteration 4340 : Loss 2896.1437\n",
      "Iteration 4350 : Loss 2896.1349\n",
      "Iteration 4360 : Loss 2896.1260\n",
      "Iteration 4370 : Loss 2896.1172\n",
      "Iteration 4380 : Loss 2896.1084\n",
      "Iteration 4390 : Loss 2896.0996\n",
      "Iteration 4400 : Loss 2896.0908\n",
      "Iteration 4410 : Loss 2896.0821\n",
      "Iteration 4420 : Loss 2896.0733\n",
      "Iteration 4430 : Loss 2896.0646\n",
      "Iteration 4440 : Loss 2896.0559\n",
      "Iteration 4450 : Loss 2896.0471\n",
      "Iteration 4460 : Loss 2896.0384\n",
      "Iteration 4470 : Loss 2896.0298\n",
      "Iteration 4480 : Loss 2896.0211\n",
      "Iteration 4490 : Loss 2896.0124\n",
      "Iteration 4500 : Loss 2896.0038\n",
      "Iteration 4510 : Loss 2895.9951\n",
      "Iteration 4520 : Loss 2895.9865\n",
      "Iteration 4530 : Loss 2895.9779\n",
      "Iteration 4540 : Loss 2895.9693\n",
      "Iteration 4550 : Loss 2895.9607\n",
      "Iteration 4560 : Loss 2895.9521\n",
      "Iteration 4570 : Loss 2895.9435\n",
      "Iteration 4580 : Loss 2895.9350\n",
      "Iteration 4590 : Loss 2895.9264\n",
      "Iteration 4600 : Loss 2895.9179\n",
      "Iteration 4610 : Loss 2895.9093\n",
      "Iteration 4620 : Loss 2895.9008\n",
      "Iteration 4630 : Loss 2895.8923\n",
      "Iteration 4640 : Loss 2895.8838\n",
      "Iteration 4650 : Loss 2895.8753\n",
      "Iteration 4660 : Loss 2895.8668\n",
      "Iteration 4670 : Loss 2895.8584\n",
      "Iteration 4680 : Loss 2895.8499\n",
      "Iteration 4690 : Loss 2895.8415\n",
      "Iteration 4700 : Loss 2895.8330\n",
      "Iteration 4710 : Loss 2895.8246\n",
      "Iteration 4720 : Loss 2895.8161\n",
      "Iteration 4730 : Loss 2895.8077\n",
      "Iteration 4740 : Loss 2895.7993\n",
      "Iteration 4750 : Loss 2895.7909\n",
      "Iteration 4760 : Loss 2895.7825\n",
      "Iteration 4770 : Loss 2895.7741\n",
      "Iteration 4780 : Loss 2895.7657\n",
      "Iteration 4790 : Loss 2895.7574\n",
      "Iteration 4800 : Loss 2895.7490\n",
      "Iteration 4810 : Loss 2895.7407\n",
      "Iteration 4820 : Loss 2895.7323\n",
      "Iteration 4830 : Loss 2895.7240\n",
      "Iteration 4840 : Loss 2895.7156\n",
      "Iteration 4850 : Loss 2895.7073\n",
      "Iteration 4860 : Loss 2895.6990\n",
      "Iteration 4870 : Loss 2895.6907\n",
      "Iteration 4880 : Loss 2895.6824\n",
      "Iteration 4890 : Loss 2895.6741\n",
      "Iteration 4900 : Loss 2895.6658\n",
      "Iteration 4910 : Loss 2895.6575\n",
      "Iteration 4920 : Loss 2895.6492\n",
      "Iteration 4930 : Loss 2895.6410\n",
      "Iteration 4940 : Loss 2895.6327\n",
      "Iteration 4950 : Loss 2895.6245\n",
      "Iteration 4960 : Loss 2895.6162\n",
      "Iteration 4970 : Loss 2895.6080\n",
      "Iteration 4980 : Loss 2895.5997\n",
      "Iteration 4990 : Loss 2895.5915\n"
     ]
    }
   ],
   "source": [
    "# 손실함수, 기울기 함수를 활용해 경사하강법으로 모델 학습\n",
    "losses = []\n",
    "\n",
    "for i in range(1, 5000):\n",
    "    dW, db = gradient(X_train, W, b, y_train)\n",
    "    W -= LEARNING_RATE * dW\n",
    "    b -= LEARNING_RATE * db\n",
    "    L = loss(X_train, W, b, y_train)\n",
    "    losses.append(L)\n",
    "    if i % 10 == 0:\n",
    "        print('Iteration %d : Loss %0.4f' % (i, L))"
   ]
  },
  {
   "cell_type": "code",
   "execution_count": 22,
   "id": "afb2c7a7",
   "metadata": {},
   "outputs": [
    {
     "data": {
      "image/png": "[encoded data removed]",
      "text/plain": [
       "<Figure size 432x288 with 1 Axes>"
      ]
     },
     "metadata": {
      "needs_background": "light"
     },
     "output_type": "display_data"
    }
   ],
   "source": [
    "# 손실함수 그래프 \n",
    "import matplotlib.pyplot as plt\n",
    "plt.plot(losses)\n",
    "plt.show()"
   ]
  },
  {
   "cell_type": "code",
   "execution_count": 23,
   "id": "8e6c0ec2",
   "metadata": {},
   "outputs": [
    {
     "data": {
      "text/plain": [
       "(array([  41.79705584, -240.20655827,  557.0406246 ,  342.43075069,\n",
       "        -124.339001  , -110.65684138, -203.76392151,  155.65950403,\n",
       "         427.81912239,   56.84521362]),\n",
       " 151.30358863692803)"
      ]
     },
     "execution_count": 23,
     "metadata": {},
     "output_type": "execute_result"
    }
   ],
   "source": [
    "W, b"
   ]
  },
  {
   "cell_type": "code",
   "execution_count": 24,
   "id": "5d2ee1a2",
   "metadata": {},
   "outputs": [
    {
     "data": {
      "text/plain": [
       "2884.642300426838"
      ]
     },
     "execution_count": 24,
     "metadata": {},
     "output_type": "execute_result"
    }
   ],
   "source": [
    "# test 데이터의 loss 값\n",
    "prediction = model(X_test, W, b)\n",
    "mse = loss(X_test, W, b, y_test)\n",
    "mse"
   ]
  },
  {
   "cell_type": "code",
   "execution_count": 25,
   "id": "bd916fa9",
   "metadata": {},
   "outputs": [
    {
     "data": {
      "image/png": "[encoded data removed]",
      "text/plain": [
       "<Figure size 432x288 with 1 Axes>"
      ]
     },
     "metadata": {
      "needs_background": "light"
     },
     "output_type": "display_data"
    }
   ],
   "source": [
    "# 정답 데이터 시각화\n",
    "plt.scatter(X_test[:, 0], y_test)\n",
    "\n",
    "plt.show()"
   ]
  },
  {
   "cell_type": "code",
   "execution_count": 26,
   "id": "db58e746",
   "metadata": {},
   "outputs": [
    {
     "data": {
      "image/png": "[encoded data removed]",
      "text/plain": [
       "<Figure size 432x288 with 1 Axes>"
      ]
     },
     "metadata": {
      "needs_background": "light"
     },
     "output_type": "display_data"
    }
   ],
   "source": [
    "# 정답 데이터와 예측 데이터 비교 시각화\n",
    "plt.scatter(X_test[:, 0], y_test)\n",
    "plt.scatter(X_test[:, 0], prediction)\n",
    "\n",
    "plt.show()"
   ]
  },
  {
   "cell_type": "markdown",
   "id": "7956d34d",
   "metadata": {},
   "source": [
    "# 평가"
   ]
  },
  {
   "cell_type": "markdown",
   "id": "4a2d775e",
   "metadata": {},
   "source": [
    "- 처음엔 loss값이 매우 높게 나왔지만 학습률을 조정해서 2884로 만듦."
   ]
  },
  {
   "cell_type": "markdown",
   "id": "d9e51805",
   "metadata": {},
   "source": [
    "# 회고"
   ]
  },
  {
   "cell_type": "markdown",
   "id": "291e8322",
   "metadata": {},
   "source": [
    "- loss 값을 3000이하로 만들려고 여러 방법을 써서 시도했지만 학습률을 조정하는게 제일 안정적으로 loss값이 내려감.\n",
    "- 정답 데이터와 예측 데이터를 비교하여 시각화 했지만 그렇게 많이 맞는지는 잘 모르겠음."
   ]
  }
 ],
 "metadata": {
  "kernelspec": {
   "display_name": "Python 3 (ipykernel)",
   "language": "python",
   "name": "python3"
  },
  "language_info": {
   "codemirror_mode": {
    "name": "ipython",
    "version": 3
   },
   "file_extension": ".py",
   "mimetype": "text/x-python",
   "name": "python",
   "nbconvert_exporter": "python",
   "pygments_lexer": "ipython3",
   "version": "3.9.7"
  }
 },
 "nbformat": 4,
 "nbformat_minor": 5
}
