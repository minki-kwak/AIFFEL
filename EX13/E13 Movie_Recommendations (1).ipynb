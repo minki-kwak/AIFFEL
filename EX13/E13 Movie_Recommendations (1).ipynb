{
 "cells": [
  {
   "cell_type": "markdown",
   "metadata": {},
   "source": [
    "# Movielens 영화 추천 "
   ]
  },
  {
   "cell_type": "code",
   "execution_count": 1,
   "metadata": {
    "colab": {
     "base_uri": "https://localhost:8080/"
    },
    "executionInfo": {
     "elapsed": 8,
     "status": "ok",
     "timestamp": 1662034012745,
     "user": {
      "displayName": "곽민기",
      "userId": "11982204351407286297"
     },
     "user_tz": -540
    },
    "id": "jA7FSdNUiABZ",
    "outputId": "1ee61a0a-9c2c-4b82-f97a-ff87a4e81e57"
   },
   "outputs": [
    {
     "name": "stdout",
     "output_type": "stream",
     "text": [
      "1.21.4\n",
      "1.7.1\n",
      "0.4.8\n"
     ]
    }
   ],
   "source": [
    "# 필요한 라이브러리 import\n",
    "import numpy as np\n",
    "import scipy\n",
    "import implicit\n",
    "import pandas as pd\n",
    "from implicit.als import AlternatingLeastSquares\n",
    "\n",
    "print(np.__version__)\n",
    "print(scipy.__version__)\n",
    "print(implicit.__version__)"
   ]
  },
  {
   "cell_type": "code",
   "execution_count": 2,
   "metadata": {
    "colab": {
     "base_uri": "https://localhost:8080/",
     "height": 206
    },
    "executionInfo": {
     "elapsed": 7299,
     "status": "ok",
     "timestamp": 1662034020038,
     "user": {
      "displayName": "곽민기",
      "userId": "11982204351407286297"
     },
     "user_tz": -540
    },
    "id": "2Ig6p99HinXO",
    "outputId": "6937fc3f-b128-42e2-84b9-cfce76f94f20"
   },
   "outputs": [
    {
     "data": {
      "text/html": [
       "<div>\n",
       "<style scoped>\n",
       "    .dataframe tbody tr th:only-of-type {\n",
       "        vertical-align: middle;\n",
       "    }\n",
       "\n",
       "    .dataframe tbody tr th {\n",
       "        vertical-align: top;\n",
       "    }\n",
       "\n",
       "    .dataframe thead th {\n",
       "        text-align: right;\n",
       "    }\n",
       "</style>\n",
       "<table border=\"1\" class=\"dataframe\">\n",
       "  <thead>\n",
       "    <tr style=\"text-align: right;\">\n",
       "      <th></th>\n",
       "      <th>user_id</th>\n",
       "      <th>movie_id</th>\n",
       "      <th>ratings</th>\n",
       "      <th>timestamp</th>\n",
       "    </tr>\n",
       "  </thead>\n",
       "  <tbody>\n",
       "    <tr>\n",
       "      <th>0</th>\n",
       "      <td>1</td>\n",
       "      <td>1193</td>\n",
       "      <td>5</td>\n",
       "      <td>978300760</td>\n",
       "    </tr>\n",
       "    <tr>\n",
       "      <th>1</th>\n",
       "      <td>1</td>\n",
       "      <td>661</td>\n",
       "      <td>3</td>\n",
       "      <td>978302109</td>\n",
       "    </tr>\n",
       "    <tr>\n",
       "      <th>2</th>\n",
       "      <td>1</td>\n",
       "      <td>914</td>\n",
       "      <td>3</td>\n",
       "      <td>978301968</td>\n",
       "    </tr>\n",
       "    <tr>\n",
       "      <th>3</th>\n",
       "      <td>1</td>\n",
       "      <td>3408</td>\n",
       "      <td>4</td>\n",
       "      <td>978300275</td>\n",
       "    </tr>\n",
       "    <tr>\n",
       "      <th>4</th>\n",
       "      <td>1</td>\n",
       "      <td>2355</td>\n",
       "      <td>5</td>\n",
       "      <td>978824291</td>\n",
       "    </tr>\n",
       "  </tbody>\n",
       "</table>\n",
       "</div>"
      ],
      "text/plain": [
       "   user_id  movie_id  ratings  timestamp\n",
       "0        1      1193        5  978300760\n",
       "1        1       661        3  978302109\n",
       "2        1       914        3  978301968\n",
       "3        1      3408        4  978300275\n",
       "4        1      2355        5  978824291"
      ]
     },
     "execution_count": 2,
     "metadata": {},
     "output_type": "execute_result"
    }
   ],
   "source": [
    "# 유저 데이터 불러오기\n",
    "import os\n",
    "import pandas as pd\n",
    "rating_file_path=os.getenv('HOME') + '/aiffel/recommendata_iu/data/ml-1m/ratings.dat'\n",
    "ratings_cols = ['user_id', 'movie_id', 'ratings', 'timestamp']\n",
    "ratings = pd.read_csv(rating_file_path, sep='::', names=ratings_cols, engine='python', encoding = \"ISO-8859-1\")\n",
    "orginal_data_size = len(ratings)\n",
    "ratings.head()"
   ]
  },
  {
   "cell_type": "code",
   "execution_count": 3,
   "metadata": {
    "colab": {
     "base_uri": "https://localhost:8080/"
    },
    "executionInfo": {
     "elapsed": 15,
     "status": "ok",
     "timestamp": 1662034020039,
     "user": {
      "displayName": "곽민기",
      "userId": "11982204351407286297"
     },
     "user_tz": -540
    },
    "id": "mdeiTBpfi9tY",
    "outputId": "09240477-a21f-4af7-f024-ae1c39b84df0"
   },
   "outputs": [
    {
     "name": "stdout",
     "output_type": "stream",
     "text": [
      "orginal_data_size: 1000209, filtered_data_size: 836478\n",
      "Ratio of Remaining Data is 83.63%\n"
     ]
    }
   ],
   "source": [
    "# 퍙점 3점 이상만 남깁니다.\n",
    "ratings = ratings[ratings['ratings']>=3]\n",
    "filtered_data_size = len(ratings)\n",
    "\n",
    "print(f'orginal_data_size: {orginal_data_size}, filtered_data_size: {filtered_data_size}')\n",
    "print(f'Ratio of Remaining Data is {filtered_data_size / orginal_data_size:.2%}')"
   ]
  },
  {
   "cell_type": "code",
   "execution_count": 4,
   "metadata": {
    "executionInfo": {
     "elapsed": 14,
     "status": "ok",
     "timestamp": 1662034020040,
     "user": {
      "displayName": "곽민기",
      "userId": "11982204351407286297"
     },
     "user_tz": -540
    },
    "id": "Z5DfzBuijIIl"
   },
   "outputs": [],
   "source": [
    "# ratings 컬럼의 이름을 counts로 바꿉니다.\n",
    "ratings.rename(columns={'ratings':'counts'}, inplace=True)"
   ]
  },
  {
   "cell_type": "code",
   "execution_count": 5,
   "metadata": {
    "colab": {
     "base_uri": "https://localhost:8080/"
    },
    "executionInfo": {
     "elapsed": 15,
     "status": "ok",
     "timestamp": 1662034020041,
     "user": {
      "displayName": "곽민기",
      "userId": "11982204351407286297"
     },
     "user_tz": -540
    },
    "id": "5kGJzJDajJtL",
    "outputId": "e15f0444-ba71-4949-c072-f90a14286e36"
   },
   "outputs": [
    {
     "data": {
      "text/plain": [
       "0          5\n",
       "1          3\n",
       "2          3\n",
       "3          4\n",
       "4          5\n",
       "          ..\n",
       "1000203    3\n",
       "1000205    5\n",
       "1000206    5\n",
       "1000207    4\n",
       "1000208    4\n",
       "Name: counts, Length: 836478, dtype: int64"
      ]
     },
     "execution_count": 5,
     "metadata": {},
     "output_type": "execute_result"
    }
   ],
   "source": [
    "ratings['counts']"
   ]
  },
  {
   "cell_type": "code",
   "execution_count": 6,
   "metadata": {
    "colab": {
     "base_uri": "https://localhost:8080/",
     "height": 206
    },
    "executionInfo": {
     "elapsed": 14,
     "status": "ok",
     "timestamp": 1662034020041,
     "user": {
      "displayName": "곽민기",
      "userId": "11982204351407286297"
     },
     "user_tz": -540
    },
    "id": "Z5z-vztcjLW3",
    "outputId": "5e47166c-ef66-426b-c5e4-af91ff405b6b"
   },
   "outputs": [
    {
     "data": {
      "text/html": [
       "<div>\n",
       "<style scoped>\n",
       "    .dataframe tbody tr th:only-of-type {\n",
       "        vertical-align: middle;\n",
       "    }\n",
       "\n",
       "    .dataframe tbody tr th {\n",
       "        vertical-align: top;\n",
       "    }\n",
       "\n",
       "    .dataframe thead th {\n",
       "        text-align: right;\n",
       "    }\n",
       "</style>\n",
       "<table border=\"1\" class=\"dataframe\">\n",
       "  <thead>\n",
       "    <tr style=\"text-align: right;\">\n",
       "      <th></th>\n",
       "      <th>movie_id</th>\n",
       "      <th>title</th>\n",
       "      <th>genre</th>\n",
       "    </tr>\n",
       "  </thead>\n",
       "  <tbody>\n",
       "    <tr>\n",
       "      <th>0</th>\n",
       "      <td>1</td>\n",
       "      <td>Toy Story (1995)</td>\n",
       "      <td>Animation|Children's|Comedy</td>\n",
       "    </tr>\n",
       "    <tr>\n",
       "      <th>1</th>\n",
       "      <td>2</td>\n",
       "      <td>Jumanji (1995)</td>\n",
       "      <td>Adventure|Children's|Fantasy</td>\n",
       "    </tr>\n",
       "    <tr>\n",
       "      <th>2</th>\n",
       "      <td>3</td>\n",
       "      <td>Grumpier Old Men (1995)</td>\n",
       "      <td>Comedy|Romance</td>\n",
       "    </tr>\n",
       "    <tr>\n",
       "      <th>3</th>\n",
       "      <td>4</td>\n",
       "      <td>Waiting to Exhale (1995)</td>\n",
       "      <td>Comedy|Drama</td>\n",
       "    </tr>\n",
       "    <tr>\n",
       "      <th>4</th>\n",
       "      <td>5</td>\n",
       "      <td>Father of the Bride Part II (1995)</td>\n",
       "      <td>Comedy</td>\n",
       "    </tr>\n",
       "  </tbody>\n",
       "</table>\n",
       "</div>"
      ],
      "text/plain": [
       "   movie_id                               title                         genre\n",
       "0         1                    Toy Story (1995)   Animation|Children's|Comedy\n",
       "1         2                      Jumanji (1995)  Adventure|Children's|Fantasy\n",
       "2         3             Grumpier Old Men (1995)                Comedy|Romance\n",
       "3         4            Waiting to Exhale (1995)                  Comedy|Drama\n",
       "4         5  Father of the Bride Part II (1995)                        Comedy"
      ]
     },
     "execution_count": 6,
     "metadata": {},
     "output_type": "execute_result"
    }
   ],
   "source": [
    "# 영화 제목을 보기 위해 메타 데이터를 읽어옵니다.\n",
    "movie_file_path=os.getenv('HOME') + '/aiffel/recommendata_iu/data/ml-1m/movies.dat'\n",
    "cols = ['movie_id', 'title', 'genre'] \n",
    "movies = pd.read_csv(movie_file_path, sep='::', names=cols, engine='python', encoding='ISO-8859-1')\n",
    "movies.head()"
   ]
  },
  {
   "cell_type": "code",
   "execution_count": 7,
   "metadata": {
    "colab": {
     "base_uri": "https://localhost:8080/",
     "height": 424
    },
    "executionInfo": {
     "elapsed": 676,
     "status": "ok",
     "timestamp": 1662034020706,
     "user": {
      "displayName": "곽민기",
      "userId": "11982204351407286297"
     },
     "user_tz": -540
    },
    "id": "nnjrnS-nmQ_F",
    "outputId": "5d9abb94-5f6c-47df-a94c-4c82040c1a27"
   },
   "outputs": [
    {
     "data": {
      "text/html": [
       "<div>\n",
       "<style scoped>\n",
       "    .dataframe tbody tr th:only-of-type {\n",
       "        vertical-align: middle;\n",
       "    }\n",
       "\n",
       "    .dataframe tbody tr th {\n",
       "        vertical-align: top;\n",
       "    }\n",
       "\n",
       "    .dataframe thead th {\n",
       "        text-align: right;\n",
       "    }\n",
       "</style>\n",
       "<table border=\"1\" class=\"dataframe\">\n",
       "  <thead>\n",
       "    <tr style=\"text-align: right;\">\n",
       "      <th></th>\n",
       "      <th>user_id</th>\n",
       "      <th>movie_id</th>\n",
       "      <th>counts</th>\n",
       "      <th>timestamp</th>\n",
       "      <th>title</th>\n",
       "      <th>genre</th>\n",
       "    </tr>\n",
       "  </thead>\n",
       "  <tbody>\n",
       "    <tr>\n",
       "      <th>0</th>\n",
       "      <td>1</td>\n",
       "      <td>1193</td>\n",
       "      <td>5</td>\n",
       "      <td>978300760</td>\n",
       "      <td>One Flew Over the Cuckoo's Nest (1975)</td>\n",
       "      <td>Drama</td>\n",
       "    </tr>\n",
       "    <tr>\n",
       "      <th>1</th>\n",
       "      <td>2</td>\n",
       "      <td>1193</td>\n",
       "      <td>5</td>\n",
       "      <td>978298413</td>\n",
       "      <td>One Flew Over the Cuckoo's Nest (1975)</td>\n",
       "      <td>Drama</td>\n",
       "    </tr>\n",
       "    <tr>\n",
       "      <th>2</th>\n",
       "      <td>12</td>\n",
       "      <td>1193</td>\n",
       "      <td>4</td>\n",
       "      <td>978220179</td>\n",
       "      <td>One Flew Over the Cuckoo's Nest (1975)</td>\n",
       "      <td>Drama</td>\n",
       "    </tr>\n",
       "    <tr>\n",
       "      <th>3</th>\n",
       "      <td>15</td>\n",
       "      <td>1193</td>\n",
       "      <td>4</td>\n",
       "      <td>978199279</td>\n",
       "      <td>One Flew Over the Cuckoo's Nest (1975)</td>\n",
       "      <td>Drama</td>\n",
       "    </tr>\n",
       "    <tr>\n",
       "      <th>4</th>\n",
       "      <td>17</td>\n",
       "      <td>1193</td>\n",
       "      <td>5</td>\n",
       "      <td>978158471</td>\n",
       "      <td>One Flew Over the Cuckoo's Nest (1975)</td>\n",
       "      <td>Drama</td>\n",
       "    </tr>\n",
       "    <tr>\n",
       "      <th>...</th>\n",
       "      <td>...</td>\n",
       "      <td>...</td>\n",
       "      <td>...</td>\n",
       "      <td>...</td>\n",
       "      <td>...</td>\n",
       "      <td>...</td>\n",
       "    </tr>\n",
       "    <tr>\n",
       "      <th>836473</th>\n",
       "      <td>5851</td>\n",
       "      <td>3607</td>\n",
       "      <td>5</td>\n",
       "      <td>957756608</td>\n",
       "      <td>One Little Indian (1973)</td>\n",
       "      <td>Comedy|Drama|Western</td>\n",
       "    </tr>\n",
       "    <tr>\n",
       "      <th>836474</th>\n",
       "      <td>5854</td>\n",
       "      <td>3026</td>\n",
       "      <td>4</td>\n",
       "      <td>958346883</td>\n",
       "      <td>Slaughterhouse (1987)</td>\n",
       "      <td>Horror</td>\n",
       "    </tr>\n",
       "    <tr>\n",
       "      <th>836475</th>\n",
       "      <td>5854</td>\n",
       "      <td>690</td>\n",
       "      <td>3</td>\n",
       "      <td>957744257</td>\n",
       "      <td>Promise, The (Versprechen, Das) (1994)</td>\n",
       "      <td>Romance</td>\n",
       "    </tr>\n",
       "    <tr>\n",
       "      <th>836476</th>\n",
       "      <td>5938</td>\n",
       "      <td>2909</td>\n",
       "      <td>4</td>\n",
       "      <td>957273353</td>\n",
       "      <td>Five Wives, Three Secretaries and Me (1998)</td>\n",
       "      <td>Documentary</td>\n",
       "    </tr>\n",
       "    <tr>\n",
       "      <th>836477</th>\n",
       "      <td>5948</td>\n",
       "      <td>1360</td>\n",
       "      <td>5</td>\n",
       "      <td>1016563709</td>\n",
       "      <td>Identification of a Woman (Identificazione di ...</td>\n",
       "      <td>Drama</td>\n",
       "    </tr>\n",
       "  </tbody>\n",
       "</table>\n",
       "<p>836478 rows × 6 columns</p>\n",
       "</div>"
      ],
      "text/plain": [
       "        user_id  movie_id  counts   timestamp  \\\n",
       "0             1      1193       5   978300760   \n",
       "1             2      1193       5   978298413   \n",
       "2            12      1193       4   978220179   \n",
       "3            15      1193       4   978199279   \n",
       "4            17      1193       5   978158471   \n",
       "...         ...       ...     ...         ...   \n",
       "836473     5851      3607       5   957756608   \n",
       "836474     5854      3026       4   958346883   \n",
       "836475     5854       690       3   957744257   \n",
       "836476     5938      2909       4   957273353   \n",
       "836477     5948      1360       5  1016563709   \n",
       "\n",
       "                                                    title  \\\n",
       "0                  One Flew Over the Cuckoo's Nest (1975)   \n",
       "1                  One Flew Over the Cuckoo's Nest (1975)   \n",
       "2                  One Flew Over the Cuckoo's Nest (1975)   \n",
       "3                  One Flew Over the Cuckoo's Nest (1975)   \n",
       "4                  One Flew Over the Cuckoo's Nest (1975)   \n",
       "...                                                   ...   \n",
       "836473                           One Little Indian (1973)   \n",
       "836474                              Slaughterhouse (1987)   \n",
       "836475             Promise, The (Versprechen, Das) (1994)   \n",
       "836476        Five Wives, Three Secretaries and Me (1998)   \n",
       "836477  Identification of a Woman (Identificazione di ...   \n",
       "\n",
       "                       genre  \n",
       "0                      Drama  \n",
       "1                      Drama  \n",
       "2                      Drama  \n",
       "3                      Drama  \n",
       "4                      Drama  \n",
       "...                      ...  \n",
       "836473  Comedy|Drama|Western  \n",
       "836474                Horror  \n",
       "836475               Romance  \n",
       "836476           Documentary  \n",
       "836477                 Drama  \n",
       "\n",
       "[836478 rows x 6 columns]"
      ]
     },
     "execution_count": 7,
     "metadata": {},
     "output_type": "execute_result"
    }
   ],
   "source": [
    "# 유저 데이터와 영화 제목 데이터를 합병\n",
    "movies_ratings = pd.merge(ratings, movies, on='movie_id')\n",
    "movies_ratings"
   ]
  },
  {
   "cell_type": "code",
   "execution_count": 8,
   "metadata": {
    "colab": {
     "base_uri": "https://localhost:8080/",
     "height": 1000
    },
    "executionInfo": {
     "elapsed": 15,
     "status": "ok",
     "timestamp": 1662034020707,
     "user": {
      "displayName": "곽민기",
      "userId": "11982204351407286297"
     },
     "user_tz": -540
    },
    "id": "Ddp-p6UhjRDN",
    "outputId": "3bcf3e25-f7bf-428c-aedf-c3359705f034"
   },
   "outputs": [
    {
     "data": {
      "text/html": [
       "<div>\n",
       "<style scoped>\n",
       "    .dataframe tbody tr th:only-of-type {\n",
       "        vertical-align: middle;\n",
       "    }\n",
       "\n",
       "    .dataframe tbody tr th {\n",
       "        vertical-align: top;\n",
       "    }\n",
       "\n",
       "    .dataframe thead th {\n",
       "        text-align: right;\n",
       "    }\n",
       "</style>\n",
       "<table border=\"1\" class=\"dataframe\">\n",
       "  <thead>\n",
       "    <tr style=\"text-align: right;\">\n",
       "      <th></th>\n",
       "      <th>user_id</th>\n",
       "      <th>movie_id</th>\n",
       "      <th>counts</th>\n",
       "      <th>timestamp</th>\n",
       "      <th>title</th>\n",
       "      <th>genre</th>\n",
       "    </tr>\n",
       "  </thead>\n",
       "  <tbody>\n",
       "    <tr>\n",
       "      <th>0</th>\n",
       "      <td>1</td>\n",
       "      <td>1193</td>\n",
       "      <td>5</td>\n",
       "      <td>978300760</td>\n",
       "      <td>One Flew Over the Cuckoo's Nest (1975)</td>\n",
       "      <td>Drama</td>\n",
       "    </tr>\n",
       "    <tr>\n",
       "      <th>1680</th>\n",
       "      <td>1</td>\n",
       "      <td>661</td>\n",
       "      <td>3</td>\n",
       "      <td>978302109</td>\n",
       "      <td>James and the Giant Peach (1996)</td>\n",
       "      <td>Animation|Children's|Musical</td>\n",
       "    </tr>\n",
       "    <tr>\n",
       "      <th>2123</th>\n",
       "      <td>1</td>\n",
       "      <td>914</td>\n",
       "      <td>3</td>\n",
       "      <td>978301968</td>\n",
       "      <td>My Fair Lady (1964)</td>\n",
       "      <td>Musical|Romance</td>\n",
       "    </tr>\n",
       "    <tr>\n",
       "      <th>2734</th>\n",
       "      <td>1</td>\n",
       "      <td>3408</td>\n",
       "      <td>4</td>\n",
       "      <td>978300275</td>\n",
       "      <td>Erin Brockovich (2000)</td>\n",
       "      <td>Drama</td>\n",
       "    </tr>\n",
       "    <tr>\n",
       "      <th>3957</th>\n",
       "      <td>1</td>\n",
       "      <td>2355</td>\n",
       "      <td>5</td>\n",
       "      <td>978824291</td>\n",
       "      <td>Bug's Life, A (1998)</td>\n",
       "      <td>Animation|Children's|Comedy</td>\n",
       "    </tr>\n",
       "    <tr>\n",
       "      <th>5556</th>\n",
       "      <td>1</td>\n",
       "      <td>1197</td>\n",
       "      <td>3</td>\n",
       "      <td>978302268</td>\n",
       "      <td>Princess Bride, The (1987)</td>\n",
       "      <td>Action|Adventure|Comedy|Romance</td>\n",
       "    </tr>\n",
       "    <tr>\n",
       "      <th>7808</th>\n",
       "      <td>1</td>\n",
       "      <td>1287</td>\n",
       "      <td>5</td>\n",
       "      <td>978302039</td>\n",
       "      <td>Ben-Hur (1959)</td>\n",
       "      <td>Action|Adventure|Drama</td>\n",
       "    </tr>\n",
       "    <tr>\n",
       "      <th>8474</th>\n",
       "      <td>1</td>\n",
       "      <td>2804</td>\n",
       "      <td>5</td>\n",
       "      <td>978300719</td>\n",
       "      <td>Christmas Story, A (1983)</td>\n",
       "      <td>Comedy|Drama</td>\n",
       "    </tr>\n",
       "    <tr>\n",
       "      <th>9764</th>\n",
       "      <td>1</td>\n",
       "      <td>594</td>\n",
       "      <td>4</td>\n",
       "      <td>978302268</td>\n",
       "      <td>Snow White and the Seven Dwarfs (1937)</td>\n",
       "      <td>Animation|Children's|Musical</td>\n",
       "    </tr>\n",
       "    <tr>\n",
       "      <th>10471</th>\n",
       "      <td>1</td>\n",
       "      <td>919</td>\n",
       "      <td>4</td>\n",
       "      <td>978301368</td>\n",
       "      <td>Wizard of Oz, The (1939)</td>\n",
       "      <td>Adventure|Children's|Drama|Musical</td>\n",
       "    </tr>\n",
       "    <tr>\n",
       "      <th>12121</th>\n",
       "      <td>1</td>\n",
       "      <td>595</td>\n",
       "      <td>5</td>\n",
       "      <td>978824268</td>\n",
       "      <td>Beauty and the Beast (1991)</td>\n",
       "      <td>Animation|Children's|Musical</td>\n",
       "    </tr>\n",
       "    <tr>\n",
       "      <th>13081</th>\n",
       "      <td>1</td>\n",
       "      <td>938</td>\n",
       "      <td>4</td>\n",
       "      <td>978301752</td>\n",
       "      <td>Gigi (1958)</td>\n",
       "      <td>Musical</td>\n",
       "    </tr>\n",
       "    <tr>\n",
       "      <th>13239</th>\n",
       "      <td>1</td>\n",
       "      <td>2398</td>\n",
       "      <td>4</td>\n",
       "      <td>978302281</td>\n",
       "      <td>Miracle on 34th Street (1947)</td>\n",
       "      <td>Drama</td>\n",
       "    </tr>\n",
       "    <tr>\n",
       "      <th>13595</th>\n",
       "      <td>1</td>\n",
       "      <td>2918</td>\n",
       "      <td>4</td>\n",
       "      <td>978302124</td>\n",
       "      <td>Ferris Bueller's Day Off (1986)</td>\n",
       "      <td>Comedy</td>\n",
       "    </tr>\n",
       "    <tr>\n",
       "      <th>15006</th>\n",
       "      <td>1</td>\n",
       "      <td>1035</td>\n",
       "      <td>5</td>\n",
       "      <td>978301753</td>\n",
       "      <td>Sound of Music, The (1965)</td>\n",
       "      <td>Musical</td>\n",
       "    </tr>\n",
       "    <tr>\n",
       "      <th>15782</th>\n",
       "      <td>1</td>\n",
       "      <td>2791</td>\n",
       "      <td>4</td>\n",
       "      <td>978302188</td>\n",
       "      <td>Airplane! (1980)</td>\n",
       "      <td>Comedy</td>\n",
       "    </tr>\n",
       "    <tr>\n",
       "      <th>17368</th>\n",
       "      <td>1</td>\n",
       "      <td>2687</td>\n",
       "      <td>3</td>\n",
       "      <td>978824268</td>\n",
       "      <td>Tarzan (1999)</td>\n",
       "      <td>Animation|Children's</td>\n",
       "    </tr>\n",
       "    <tr>\n",
       "      <th>17757</th>\n",
       "      <td>1</td>\n",
       "      <td>2018</td>\n",
       "      <td>4</td>\n",
       "      <td>978301777</td>\n",
       "      <td>Bambi (1942)</td>\n",
       "      <td>Animation|Children's</td>\n",
       "    </tr>\n",
       "    <tr>\n",
       "      <th>18285</th>\n",
       "      <td>1</td>\n",
       "      <td>3105</td>\n",
       "      <td>5</td>\n",
       "      <td>978301713</td>\n",
       "      <td>Awakenings (1990)</td>\n",
       "      <td>Drama</td>\n",
       "    </tr>\n",
       "    <tr>\n",
       "      <th>18921</th>\n",
       "      <td>1</td>\n",
       "      <td>2797</td>\n",
       "      <td>4</td>\n",
       "      <td>978302039</td>\n",
       "      <td>Big (1988)</td>\n",
       "      <td>Comedy|Fantasy</td>\n",
       "    </tr>\n",
       "    <tr>\n",
       "      <th>20307</th>\n",
       "      <td>1</td>\n",
       "      <td>2321</td>\n",
       "      <td>3</td>\n",
       "      <td>978302205</td>\n",
       "      <td>Pleasantville (1998)</td>\n",
       "      <td>Comedy</td>\n",
       "    </tr>\n",
       "    <tr>\n",
       "      <th>21353</th>\n",
       "      <td>1</td>\n",
       "      <td>720</td>\n",
       "      <td>3</td>\n",
       "      <td>978300760</td>\n",
       "      <td>Wallace &amp; Gromit: The Best of Aardman Animatio...</td>\n",
       "      <td>Animation</td>\n",
       "    </tr>\n",
       "    <tr>\n",
       "      <th>21777</th>\n",
       "      <td>1</td>\n",
       "      <td>1270</td>\n",
       "      <td>5</td>\n",
       "      <td>978300055</td>\n",
       "      <td>Back to the Future (1985)</td>\n",
       "      <td>Comedy|Sci-Fi</td>\n",
       "    </tr>\n",
       "    <tr>\n",
       "      <th>24237</th>\n",
       "      <td>1</td>\n",
       "      <td>527</td>\n",
       "      <td>5</td>\n",
       "      <td>978824195</td>\n",
       "      <td>Schindler's List (1993)</td>\n",
       "      <td>Drama|War</td>\n",
       "    </tr>\n",
       "    <tr>\n",
       "      <th>26494</th>\n",
       "      <td>1</td>\n",
       "      <td>2340</td>\n",
       "      <td>3</td>\n",
       "      <td>978300103</td>\n",
       "      <td>Meet Joe Black (1998)</td>\n",
       "      <td>Romance</td>\n",
       "    </tr>\n",
       "    <tr>\n",
       "      <th>26760</th>\n",
       "      <td>1</td>\n",
       "      <td>48</td>\n",
       "      <td>5</td>\n",
       "      <td>978824351</td>\n",
       "      <td>Pocahontas (1995)</td>\n",
       "      <td>Animation|Children's|Musical|Romance</td>\n",
       "    </tr>\n",
       "    <tr>\n",
       "      <th>27021</th>\n",
       "      <td>1</td>\n",
       "      <td>1097</td>\n",
       "      <td>4</td>\n",
       "      <td>978301953</td>\n",
       "      <td>E.T. the Extra-Terrestrial (1982)</td>\n",
       "      <td>Children's|Drama|Fantasy|Sci-Fi</td>\n",
       "    </tr>\n",
       "    <tr>\n",
       "      <th>29123</th>\n",
       "      <td>1</td>\n",
       "      <td>1721</td>\n",
       "      <td>4</td>\n",
       "      <td>978300055</td>\n",
       "      <td>Titanic (1997)</td>\n",
       "      <td>Drama|Romance</td>\n",
       "    </tr>\n",
       "    <tr>\n",
       "      <th>30393</th>\n",
       "      <td>1</td>\n",
       "      <td>1545</td>\n",
       "      <td>4</td>\n",
       "      <td>978824139</td>\n",
       "      <td>Ponette (1996)</td>\n",
       "      <td>Drama</td>\n",
       "    </tr>\n",
       "    <tr>\n",
       "      <th>30461</th>\n",
       "      <td>1</td>\n",
       "      <td>745</td>\n",
       "      <td>3</td>\n",
       "      <td>978824268</td>\n",
       "      <td>Close Shave, A (1995)</td>\n",
       "      <td>Animation|Comedy|Thriller</td>\n",
       "    </tr>\n",
       "    <tr>\n",
       "      <th>31113</th>\n",
       "      <td>1</td>\n",
       "      <td>2294</td>\n",
       "      <td>4</td>\n",
       "      <td>978824291</td>\n",
       "      <td>Antz (1998)</td>\n",
       "      <td>Animation|Children's</td>\n",
       "    </tr>\n",
       "    <tr>\n",
       "      <th>31674</th>\n",
       "      <td>1</td>\n",
       "      <td>3186</td>\n",
       "      <td>4</td>\n",
       "      <td>978300019</td>\n",
       "      <td>Girl, Interrupted (1999)</td>\n",
       "      <td>Drama</td>\n",
       "    </tr>\n",
       "    <tr>\n",
       "      <th>32044</th>\n",
       "      <td>1</td>\n",
       "      <td>1566</td>\n",
       "      <td>4</td>\n",
       "      <td>978824330</td>\n",
       "      <td>Hercules (1997)</td>\n",
       "      <td>Adventure|Animation|Children's|Comedy|Musical</td>\n",
       "    </tr>\n",
       "    <tr>\n",
       "      <th>32415</th>\n",
       "      <td>1</td>\n",
       "      <td>588</td>\n",
       "      <td>4</td>\n",
       "      <td>978824268</td>\n",
       "      <td>Aladdin (1992)</td>\n",
       "      <td>Animation|Children's|Comedy|Musical</td>\n",
       "    </tr>\n",
       "    <tr>\n",
       "      <th>33643</th>\n",
       "      <td>1</td>\n",
       "      <td>1907</td>\n",
       "      <td>4</td>\n",
       "      <td>978824330</td>\n",
       "      <td>Mulan (1998)</td>\n",
       "      <td>Animation|Children's</td>\n",
       "    </tr>\n",
       "    <tr>\n",
       "      <th>34086</th>\n",
       "      <td>1</td>\n",
       "      <td>783</td>\n",
       "      <td>4</td>\n",
       "      <td>978824291</td>\n",
       "      <td>Hunchback of Notre Dame, The (1996)</td>\n",
       "      <td>Animation|Children's|Musical</td>\n",
       "    </tr>\n",
       "    <tr>\n",
       "      <th>34399</th>\n",
       "      <td>1</td>\n",
       "      <td>1836</td>\n",
       "      <td>5</td>\n",
       "      <td>978300172</td>\n",
       "      <td>Last Days of Disco, The (1998)</td>\n",
       "      <td>Drama</td>\n",
       "    </tr>\n",
       "    <tr>\n",
       "      <th>34497</th>\n",
       "      <td>1</td>\n",
       "      <td>1022</td>\n",
       "      <td>5</td>\n",
       "      <td>978300055</td>\n",
       "      <td>Cinderella (1950)</td>\n",
       "      <td>Animation|Children's|Musical</td>\n",
       "    </tr>\n",
       "    <tr>\n",
       "      <th>35022</th>\n",
       "      <td>1</td>\n",
       "      <td>2762</td>\n",
       "      <td>4</td>\n",
       "      <td>978302091</td>\n",
       "      <td>Sixth Sense, The (1999)</td>\n",
       "      <td>Thriller</td>\n",
       "    </tr>\n",
       "    <tr>\n",
       "      <th>37407</th>\n",
       "      <td>1</td>\n",
       "      <td>150</td>\n",
       "      <td>5</td>\n",
       "      <td>978301777</td>\n",
       "      <td>Apollo 13 (1995)</td>\n",
       "      <td>Drama</td>\n",
       "    </tr>\n",
       "    <tr>\n",
       "      <th>38620</th>\n",
       "      <td>1</td>\n",
       "      <td>1</td>\n",
       "      <td>5</td>\n",
       "      <td>978824268</td>\n",
       "      <td>Toy Story (1995)</td>\n",
       "      <td>Animation|Children's|Comedy</td>\n",
       "    </tr>\n",
       "    <tr>\n",
       "      <th>40620</th>\n",
       "      <td>1</td>\n",
       "      <td>1961</td>\n",
       "      <td>5</td>\n",
       "      <td>978301590</td>\n",
       "      <td>Rain Man (1988)</td>\n",
       "      <td>Drama</td>\n",
       "    </tr>\n",
       "    <tr>\n",
       "      <th>41904</th>\n",
       "      <td>1</td>\n",
       "      <td>1962</td>\n",
       "      <td>4</td>\n",
       "      <td>978301753</td>\n",
       "      <td>Driving Miss Daisy (1989)</td>\n",
       "      <td>Drama</td>\n",
       "    </tr>\n",
       "    <tr>\n",
       "      <th>42515</th>\n",
       "      <td>1</td>\n",
       "      <td>2692</td>\n",
       "      <td>4</td>\n",
       "      <td>978301570</td>\n",
       "      <td>Run Lola Run (Lola rennt) (1998)</td>\n",
       "      <td>Action|Crime|Romance</td>\n",
       "    </tr>\n",
       "    <tr>\n",
       "      <th>43536</th>\n",
       "      <td>1</td>\n",
       "      <td>260</td>\n",
       "      <td>4</td>\n",
       "      <td>978300760</td>\n",
       "      <td>Star Wars: Episode IV - A New Hope (1977)</td>\n",
       "      <td>Action|Adventure|Fantasy|Sci-Fi</td>\n",
       "    </tr>\n",
       "    <tr>\n",
       "      <th>46446</th>\n",
       "      <td>1</td>\n",
       "      <td>1028</td>\n",
       "      <td>5</td>\n",
       "      <td>978301777</td>\n",
       "      <td>Mary Poppins (1964)</td>\n",
       "      <td>Children's|Comedy|Musical</td>\n",
       "    </tr>\n",
       "    <tr>\n",
       "      <th>47363</th>\n",
       "      <td>1</td>\n",
       "      <td>1029</td>\n",
       "      <td>5</td>\n",
       "      <td>978302205</td>\n",
       "      <td>Dumbo (1941)</td>\n",
       "      <td>Animation|Children's|Musical</td>\n",
       "    </tr>\n",
       "    <tr>\n",
       "      <th>47879</th>\n",
       "      <td>1</td>\n",
       "      <td>1207</td>\n",
       "      <td>4</td>\n",
       "      <td>978300719</td>\n",
       "      <td>To Kill a Mockingbird (1962)</td>\n",
       "      <td>Drama</td>\n",
       "    </tr>\n",
       "    <tr>\n",
       "      <th>48786</th>\n",
       "      <td>1</td>\n",
       "      <td>2028</td>\n",
       "      <td>5</td>\n",
       "      <td>978301619</td>\n",
       "      <td>Saving Private Ryan (1998)</td>\n",
       "      <td>Action|Drama|War</td>\n",
       "    </tr>\n",
       "    <tr>\n",
       "      <th>51347</th>\n",
       "      <td>1</td>\n",
       "      <td>531</td>\n",
       "      <td>4</td>\n",
       "      <td>978302149</td>\n",
       "      <td>Secret Garden, The (1993)</td>\n",
       "      <td>Children's|Drama</td>\n",
       "    </tr>\n",
       "    <tr>\n",
       "      <th>51656</th>\n",
       "      <td>1</td>\n",
       "      <td>3114</td>\n",
       "      <td>4</td>\n",
       "      <td>978302174</td>\n",
       "      <td>Toy Story 2 (1999)</td>\n",
       "      <td>Animation|Children's|Comedy</td>\n",
       "    </tr>\n",
       "    <tr>\n",
       "      <th>53172</th>\n",
       "      <td>1</td>\n",
       "      <td>608</td>\n",
       "      <td>4</td>\n",
       "      <td>978301398</td>\n",
       "      <td>Fargo (1996)</td>\n",
       "      <td>Crime|Drama|Thriller</td>\n",
       "    </tr>\n",
       "    <tr>\n",
       "      <th>55543</th>\n",
       "      <td>1</td>\n",
       "      <td>1246</td>\n",
       "      <td>4</td>\n",
       "      <td>978302091</td>\n",
       "      <td>Dead Poets Society (1989)</td>\n",
       "      <td>Drama</td>\n",
       "    </tr>\n",
       "  </tbody>\n",
       "</table>\n",
       "</div>"
      ],
      "text/plain": [
       "       user_id  movie_id  counts  timestamp  \\\n",
       "0            1      1193       5  978300760   \n",
       "1680         1       661       3  978302109   \n",
       "2123         1       914       3  978301968   \n",
       "2734         1      3408       4  978300275   \n",
       "3957         1      2355       5  978824291   \n",
       "5556         1      1197       3  978302268   \n",
       "7808         1      1287       5  978302039   \n",
       "8474         1      2804       5  978300719   \n",
       "9764         1       594       4  978302268   \n",
       "10471        1       919       4  978301368   \n",
       "12121        1       595       5  978824268   \n",
       "13081        1       938       4  978301752   \n",
       "13239        1      2398       4  978302281   \n",
       "13595        1      2918       4  978302124   \n",
       "15006        1      1035       5  978301753   \n",
       "15782        1      2791       4  978302188   \n",
       "17368        1      2687       3  978824268   \n",
       "17757        1      2018       4  978301777   \n",
       "18285        1      3105       5  978301713   \n",
       "18921        1      2797       4  978302039   \n",
       "20307        1      2321       3  978302205   \n",
       "21353        1       720       3  978300760   \n",
       "21777        1      1270       5  978300055   \n",
       "24237        1       527       5  978824195   \n",
       "26494        1      2340       3  978300103   \n",
       "26760        1        48       5  978824351   \n",
       "27021        1      1097       4  978301953   \n",
       "29123        1      1721       4  978300055   \n",
       "30393        1      1545       4  978824139   \n",
       "30461        1       745       3  978824268   \n",
       "31113        1      2294       4  978824291   \n",
       "31674        1      3186       4  978300019   \n",
       "32044        1      1566       4  978824330   \n",
       "32415        1       588       4  978824268   \n",
       "33643        1      1907       4  978824330   \n",
       "34086        1       783       4  978824291   \n",
       "34399        1      1836       5  978300172   \n",
       "34497        1      1022       5  978300055   \n",
       "35022        1      2762       4  978302091   \n",
       "37407        1       150       5  978301777   \n",
       "38620        1         1       5  978824268   \n",
       "40620        1      1961       5  978301590   \n",
       "41904        1      1962       4  978301753   \n",
       "42515        1      2692       4  978301570   \n",
       "43536        1       260       4  978300760   \n",
       "46446        1      1028       5  978301777   \n",
       "47363        1      1029       5  978302205   \n",
       "47879        1      1207       4  978300719   \n",
       "48786        1      2028       5  978301619   \n",
       "51347        1       531       4  978302149   \n",
       "51656        1      3114       4  978302174   \n",
       "53172        1       608       4  978301398   \n",
       "55543        1      1246       4  978302091   \n",
       "\n",
       "                                                   title  \\\n",
       "0                 One Flew Over the Cuckoo's Nest (1975)   \n",
       "1680                    James and the Giant Peach (1996)   \n",
       "2123                                 My Fair Lady (1964)   \n",
       "2734                              Erin Brockovich (2000)   \n",
       "3957                                Bug's Life, A (1998)   \n",
       "5556                          Princess Bride, The (1987)   \n",
       "7808                                      Ben-Hur (1959)   \n",
       "8474                           Christmas Story, A (1983)   \n",
       "9764              Snow White and the Seven Dwarfs (1937)   \n",
       "10471                           Wizard of Oz, The (1939)   \n",
       "12121                        Beauty and the Beast (1991)   \n",
       "13081                                        Gigi (1958)   \n",
       "13239                      Miracle on 34th Street (1947)   \n",
       "13595                    Ferris Bueller's Day Off (1986)   \n",
       "15006                         Sound of Music, The (1965)   \n",
       "15782                                   Airplane! (1980)   \n",
       "17368                                      Tarzan (1999)   \n",
       "17757                                       Bambi (1942)   \n",
       "18285                                  Awakenings (1990)   \n",
       "18921                                         Big (1988)   \n",
       "20307                               Pleasantville (1998)   \n",
       "21353  Wallace & Gromit: The Best of Aardman Animatio...   \n",
       "21777                          Back to the Future (1985)   \n",
       "24237                            Schindler's List (1993)   \n",
       "26494                              Meet Joe Black (1998)   \n",
       "26760                                  Pocahontas (1995)   \n",
       "27021                  E.T. the Extra-Terrestrial (1982)   \n",
       "29123                                     Titanic (1997)   \n",
       "30393                                     Ponette (1996)   \n",
       "30461                              Close Shave, A (1995)   \n",
       "31113                                        Antz (1998)   \n",
       "31674                           Girl, Interrupted (1999)   \n",
       "32044                                    Hercules (1997)   \n",
       "32415                                     Aladdin (1992)   \n",
       "33643                                       Mulan (1998)   \n",
       "34086                Hunchback of Notre Dame, The (1996)   \n",
       "34399                     Last Days of Disco, The (1998)   \n",
       "34497                                  Cinderella (1950)   \n",
       "35022                            Sixth Sense, The (1999)   \n",
       "37407                                   Apollo 13 (1995)   \n",
       "38620                                   Toy Story (1995)   \n",
       "40620                                    Rain Man (1988)   \n",
       "41904                          Driving Miss Daisy (1989)   \n",
       "42515                   Run Lola Run (Lola rennt) (1998)   \n",
       "43536          Star Wars: Episode IV - A New Hope (1977)   \n",
       "46446                                Mary Poppins (1964)   \n",
       "47363                                       Dumbo (1941)   \n",
       "47879                       To Kill a Mockingbird (1962)   \n",
       "48786                         Saving Private Ryan (1998)   \n",
       "51347                          Secret Garden, The (1993)   \n",
       "51656                                 Toy Story 2 (1999)   \n",
       "53172                                       Fargo (1996)   \n",
       "55543                          Dead Poets Society (1989)   \n",
       "\n",
       "                                               genre  \n",
       "0                                              Drama  \n",
       "1680                    Animation|Children's|Musical  \n",
       "2123                                 Musical|Romance  \n",
       "2734                                           Drama  \n",
       "3957                     Animation|Children's|Comedy  \n",
       "5556                 Action|Adventure|Comedy|Romance  \n",
       "7808                          Action|Adventure|Drama  \n",
       "8474                                    Comedy|Drama  \n",
       "9764                    Animation|Children's|Musical  \n",
       "10471             Adventure|Children's|Drama|Musical  \n",
       "12121                   Animation|Children's|Musical  \n",
       "13081                                        Musical  \n",
       "13239                                          Drama  \n",
       "13595                                         Comedy  \n",
       "15006                                        Musical  \n",
       "15782                                         Comedy  \n",
       "17368                           Animation|Children's  \n",
       "17757                           Animation|Children's  \n",
       "18285                                          Drama  \n",
       "18921                                 Comedy|Fantasy  \n",
       "20307                                         Comedy  \n",
       "21353                                      Animation  \n",
       "21777                                  Comedy|Sci-Fi  \n",
       "24237                                      Drama|War  \n",
       "26494                                        Romance  \n",
       "26760           Animation|Children's|Musical|Romance  \n",
       "27021                Children's|Drama|Fantasy|Sci-Fi  \n",
       "29123                                  Drama|Romance  \n",
       "30393                                          Drama  \n",
       "30461                      Animation|Comedy|Thriller  \n",
       "31113                           Animation|Children's  \n",
       "31674                                          Drama  \n",
       "32044  Adventure|Animation|Children's|Comedy|Musical  \n",
       "32415            Animation|Children's|Comedy|Musical  \n",
       "33643                           Animation|Children's  \n",
       "34086                   Animation|Children's|Musical  \n",
       "34399                                          Drama  \n",
       "34497                   Animation|Children's|Musical  \n",
       "35022                                       Thriller  \n",
       "37407                                          Drama  \n",
       "38620                    Animation|Children's|Comedy  \n",
       "40620                                          Drama  \n",
       "41904                                          Drama  \n",
       "42515                           Action|Crime|Romance  \n",
       "43536                Action|Adventure|Fantasy|Sci-Fi  \n",
       "46446                      Children's|Comedy|Musical  \n",
       "47363                   Animation|Children's|Musical  \n",
       "47879                                          Drama  \n",
       "48786                               Action|Drama|War  \n",
       "51347                               Children's|Drama  \n",
       "51656                    Animation|Children's|Comedy  \n",
       "53172                           Crime|Drama|Thriller  \n",
       "55543                                          Drama  "
      ]
     },
     "execution_count": 8,
     "metadata": {},
     "output_type": "execute_result"
    }
   ],
   "source": [
    "# 첫 번째 유저가 어떤 영화를 봤는지 확인\n",
    "condition = (movies_ratings['user_id']== movies_ratings.loc[0, 'user_id'])\n",
    "movies_ratings.loc[condition]"
   ]
  },
  {
   "cell_type": "code",
   "execution_count": 9,
   "metadata": {
    "colab": {
     "base_uri": "https://localhost:8080/"
    },
    "executionInfo": {
     "elapsed": 11,
     "status": "ok",
     "timestamp": 1662034020708,
     "user": {
      "displayName": "곽민기",
      "userId": "11982204351407286297"
     },
     "user_tz": -540
    },
    "id": "kpmdxj6VkrKA",
    "outputId": "29d98182-0741-4c6b-ff3b-89cdc8c50012"
   },
   "outputs": [
    {
     "data": {
      "text/plain": [
       "6039"
      ]
     },
     "execution_count": 9,
     "metadata": {},
     "output_type": "execute_result"
    }
   ],
   "source": [
    "# 유저 수\n",
    "movies_ratings['user_id'].nunique()"
   ]
  },
  {
   "cell_type": "code",
   "execution_count": 10,
   "metadata": {
    "colab": {
     "base_uri": "https://localhost:8080/"
    },
    "executionInfo": {
     "elapsed": 10,
     "status": "ok",
     "timestamp": 1662034020709,
     "user": {
      "displayName": "곽민기",
      "userId": "11982204351407286297"
     },
     "user_tz": -540
    },
    "id": "16Ch7AZokyOK",
    "outputId": "602cf739-d25a-4b5c-de30-b283cbafb49c"
   },
   "outputs": [
    {
     "data": {
      "text/plain": [
       "3628"
      ]
     },
     "execution_count": 10,
     "metadata": {},
     "output_type": "execute_result"
    }
   ],
   "source": [
    "# 영화 수\n",
    "movies_ratings['movie_id'].nunique()"
   ]
  },
  {
   "cell_type": "code",
   "execution_count": 11,
   "metadata": {
    "colab": {
     "base_uri": "https://localhost:8080/"
    },
    "executionInfo": {
     "elapsed": 539,
     "status": "ok",
     "timestamp": 1662034021240,
     "user": {
      "displayName": "곽민기",
      "userId": "11982204351407286297"
     },
     "user_tz": -540
    },
    "id": "zRh1SCqLk4Ue",
    "outputId": "fe2497a3-be04-46b9-cec9-63084506544d"
   },
   "outputs": [
    {
     "data": {
      "text/plain": [
       "title\n",
       "American Beauty (1999)                                   3211\n",
       "Star Wars: Episode IV - A New Hope (1977)                2910\n",
       "Star Wars: Episode V - The Empire Strikes Back (1980)    2885\n",
       "Star Wars: Episode VI - Return of the Jedi (1983)        2716\n",
       "Saving Private Ryan (1998)                               2561\n",
       "Terminator 2: Judgment Day (1991)                        2509\n",
       "Silence of the Lambs, The (1991)                         2498\n",
       "Raiders of the Lost Ark (1981)                           2473\n",
       "Back to the Future (1985)                                2460\n",
       "Matrix, The (1999)                                       2434\n",
       "Jurassic Park (1993)                                     2413\n",
       "Sixth Sense, The (1999)                                  2385\n",
       "Fargo (1996)                                             2371\n",
       "Braveheart (1995)                                        2314\n",
       "Men in Black (1997)                                      2297\n",
       "Schindler's List (1993)                                  2257\n",
       "Princess Bride, The (1987)                               2252\n",
       "Shakespeare in Love (1998)                               2213\n",
       "L.A. Confidential (1997)                                 2210\n",
       "Shawshank Redemption, The (1994)                         2194\n",
       "Godfather, The (1972)                                    2167\n",
       "Groundhog Day (1993)                                     2121\n",
       "E.T. the Extra-Terrestrial (1982)                        2102\n",
       "Being John Malkovich (1999)                              2066\n",
       "Ghostbusters (1984)                                      2051\n",
       "Pulp Fiction (1994)                                      2030\n",
       "Forrest Gump (1994)                                      2022\n",
       "Terminator, The (1984)                                   2019\n",
       "Toy Story (1995)                                         2000\n",
       "Fugitive, The (1993)                                     1941\n",
       "Name: user_id, dtype: int64"
      ]
     },
     "execution_count": 11,
     "metadata": {},
     "output_type": "execute_result"
    }
   ],
   "source": [
    "# 인기 많은 영화\n",
    "movies_count = movies_ratings.groupby('title')['user_id'].count()\n",
    "movies_count.sort_values(ascending=False).head(30)"
   ]
  },
  {
   "cell_type": "code",
   "execution_count": 12,
   "metadata": {},
   "outputs": [
    {
     "data": {
      "text/plain": [
       "1046454590"
      ]
     },
     "execution_count": 12,
     "metadata": {},
     "output_type": "execute_result"
    }
   ],
   "source": [
    "# 데이터 추가를 위해 영화타임의 최댓값 확인\n",
    "movies_ratings['timestamp'].max()"
   ]
  },
  {
   "cell_type": "code",
   "execution_count": 13,
   "metadata": {
    "colab": {
     "base_uri": "https://localhost:8080/",
     "height": 363
    },
    "executionInfo": {
     "elapsed": 668,
     "status": "ok",
     "timestamp": 1662034021904,
     "user": {
      "displayName": "곽민기",
      "userId": "11982204351407286297"
     },
     "user_tz": -540
    },
    "id": "HcstaWMDosxr",
    "outputId": "262f8755-d7c4-481d-de42-88c54d41ae76"
   },
   "outputs": [
    {
     "data": {
      "text/html": [
       "<div>\n",
       "<style scoped>\n",
       "    .dataframe tbody tr th:only-of-type {\n",
       "        vertical-align: middle;\n",
       "    }\n",
       "\n",
       "    .dataframe tbody tr th {\n",
       "        vertical-align: top;\n",
       "    }\n",
       "\n",
       "    .dataframe thead th {\n",
       "        text-align: right;\n",
       "    }\n",
       "</style>\n",
       "<table border=\"1\" class=\"dataframe\">\n",
       "  <thead>\n",
       "    <tr style=\"text-align: right;\">\n",
       "      <th></th>\n",
       "      <th>user_id</th>\n",
       "      <th>movie_id</th>\n",
       "      <th>counts</th>\n",
       "      <th>timestamp</th>\n",
       "      <th>title</th>\n",
       "      <th>genre</th>\n",
       "    </tr>\n",
       "  </thead>\n",
       "  <tbody>\n",
       "    <tr>\n",
       "      <th>836473</th>\n",
       "      <td>5851</td>\n",
       "      <td>3607</td>\n",
       "      <td>5.0</td>\n",
       "      <td>957756608</td>\n",
       "      <td>One Little Indian (1973)</td>\n",
       "      <td>Comedy|Drama|Western</td>\n",
       "    </tr>\n",
       "    <tr>\n",
       "      <th>836474</th>\n",
       "      <td>5854</td>\n",
       "      <td>3026</td>\n",
       "      <td>4.0</td>\n",
       "      <td>958346883</td>\n",
       "      <td>Slaughterhouse (1987)</td>\n",
       "      <td>Horror</td>\n",
       "    </tr>\n",
       "    <tr>\n",
       "      <th>836475</th>\n",
       "      <td>5854</td>\n",
       "      <td>690</td>\n",
       "      <td>3.0</td>\n",
       "      <td>957744257</td>\n",
       "      <td>Promise, The (Versprechen, Das) (1994)</td>\n",
       "      <td>Romance</td>\n",
       "    </tr>\n",
       "    <tr>\n",
       "      <th>836476</th>\n",
       "      <td>5938</td>\n",
       "      <td>2909</td>\n",
       "      <td>4.0</td>\n",
       "      <td>957273353</td>\n",
       "      <td>Five Wives, Three Secretaries and Me (1998)</td>\n",
       "      <td>Documentary</td>\n",
       "    </tr>\n",
       "    <tr>\n",
       "      <th>836477</th>\n",
       "      <td>5948</td>\n",
       "      <td>1360</td>\n",
       "      <td>5.0</td>\n",
       "      <td>1016563709</td>\n",
       "      <td>Identification of a Woman (Identificazione di ...</td>\n",
       "      <td>Drama</td>\n",
       "    </tr>\n",
       "    <tr>\n",
       "      <th>0</th>\n",
       "      <td>minki</td>\n",
       "      <td>1580</td>\n",
       "      <td>5.0</td>\n",
       "      <td>1046454590</td>\n",
       "      <td>Men in Black (1997)</td>\n",
       "      <td>Action|Adventure|Comedy|Sci-Fi</td>\n",
       "    </tr>\n",
       "    <tr>\n",
       "      <th>1</th>\n",
       "      <td>minki</td>\n",
       "      <td>356</td>\n",
       "      <td>5.0</td>\n",
       "      <td>1046454590</td>\n",
       "      <td>Forrest Gump (1994)</td>\n",
       "      <td>Comedy|Romance|War</td>\n",
       "    </tr>\n",
       "    <tr>\n",
       "      <th>2</th>\n",
       "      <td>minki</td>\n",
       "      <td>1</td>\n",
       "      <td>5.0</td>\n",
       "      <td>1046454590</td>\n",
       "      <td>Toy Story (1995)</td>\n",
       "      <td>Animation|Children's|Comedy</td>\n",
       "    </tr>\n",
       "    <tr>\n",
       "      <th>3</th>\n",
       "      <td>minki</td>\n",
       "      <td>480</td>\n",
       "      <td>5.0</td>\n",
       "      <td>1046454590</td>\n",
       "      <td>Jurassic Park (1993)</td>\n",
       "      <td>Action|Adventure|Sci-Fi</td>\n",
       "    </tr>\n",
       "    <tr>\n",
       "      <th>4</th>\n",
       "      <td>minki</td>\n",
       "      <td>1721</td>\n",
       "      <td>5.0</td>\n",
       "      <td>1046454590</td>\n",
       "      <td>Titanic (1997)</td>\n",
       "      <td>Drama|Romance</td>\n",
       "    </tr>\n",
       "  </tbody>\n",
       "</table>\n",
       "</div>"
      ],
      "text/plain": [
       "       user_id movie_id  counts   timestamp  \\\n",
       "836473    5851     3607     5.0   957756608   \n",
       "836474    5854     3026     4.0   958346883   \n",
       "836475    5854      690     3.0   957744257   \n",
       "836476    5938     2909     4.0   957273353   \n",
       "836477    5948     1360     5.0  1016563709   \n",
       "0        minki     1580     5.0  1046454590   \n",
       "1        minki      356     5.0  1046454590   \n",
       "2        minki        1     5.0  1046454590   \n",
       "3        minki      480     5.0  1046454590   \n",
       "4        minki     1721     5.0  1046454590   \n",
       "\n",
       "                                                    title  \\\n",
       "836473                           One Little Indian (1973)   \n",
       "836474                              Slaughterhouse (1987)   \n",
       "836475             Promise, The (Versprechen, Das) (1994)   \n",
       "836476        Five Wives, Three Secretaries and Me (1998)   \n",
       "836477  Identification of a Woman (Identificazione di ...   \n",
       "0                                     Men in Black (1997)   \n",
       "1                                     Forrest Gump (1994)   \n",
       "2                                        Toy Story (1995)   \n",
       "3                                    Jurassic Park (1993)   \n",
       "4                                          Titanic (1997)   \n",
       "\n",
       "                                 genre  \n",
       "836473            Comedy|Drama|Western  \n",
       "836474                          Horror  \n",
       "836475                         Romance  \n",
       "836476                     Documentary  \n",
       "836477                           Drama  \n",
       "0       Action|Adventure|Comedy|Sci-Fi  \n",
       "1                   Comedy|Romance|War  \n",
       "2          Animation|Children's|Comedy  \n",
       "3              Action|Adventure|Sci-Fi  \n",
       "4                        Drama|Romance  "
      ]
     },
     "execution_count": 13,
     "metadata": {},
     "output_type": "execute_result"
    }
   ],
   "source": [
    "# 본인이 좋아하시는 영화 데이터로 바꿔서 추가하셔도 됩니다! 단, 제목은 꼭 데이터셋에 있는 것과 동일하게 맞춰주세요. \n",
    "my_favorite = ['Men in Black (1997)' , 'Forrest Gump (1994)' ,'Toy Story (1995)' ,'Jurassic Park (1993)' ,'Titanic (1997)']\n",
    "my_favorite_movie_id = ['1580', '356', '1', '480', '1721']\n",
    "my_favorite_genre = ['Action|Adventure|Comedy|Sci-Fi', 'Comedy|Romance|War', \"Animation|Children's|Comedy\", 'Action|Adventure|Sci-Fi', 'Drama|Romance']\n",
    "\n",
    "# 좋아하는 영화에 대한 데이터 프레임 생성\n",
    "# 평점과 영화를 본 시간은 좋아하는 영화임으로 최대치로 줌\n",
    "my_playlist = pd.DataFrame({'user_id': ['minki']*5, 'title': my_favorite, 'movie_id': my_favorite_movie_id, 'timestamp':[1046454590]*5, 'counts': [5.0]*5, 'genre': my_favorite_genre})\n",
    "\n",
    "# movies_ratings 데이터 프레임에 좋아하는 영화 데이터 프레임 추가\n",
    "if not movies_ratings.isin({'user_id':['minki']})['user_id'].any():  # user_id에 'minki'이라는 데이터가 없다면\n",
    "    movies_ratings = movies_ratings.append(my_playlist)                           # 위에 임의로 만든 my_favorite 데이터를 추가해 줍니다. \n",
    "\n",
    "movies_ratings.tail(10)       # 잘 추가되었는지 확인해 봅시다."
   ]
  },
  {
   "cell_type": "code",
   "execution_count": 14,
   "metadata": {
    "executionInfo": {
     "elapsed": 405,
     "status": "ok",
     "timestamp": 1662034197016,
     "user": {
      "displayName": "곽민기",
      "userId": "11982204351407286297"
     },
     "user_tz": -540
    },
    "id": "7xELNWn4p2sa"
   },
   "outputs": [],
   "source": [
    "# 고유한 유저, 영화를 찾아내는 코드\n",
    "user_unique = movies_ratings['user_id'].unique()\n",
    "title_unique = movies_ratings['title'].unique()\n",
    "genre_unique = movies_ratings['genre'].unique()\n",
    "\n",
    "# 유저, 영화 indexing 하는 코드 idx는 index의 약자입니다.\n",
    "user_to_idx = {v:k for k,v in enumerate(user_unique)}\n",
    "title_to_idx = {v:k for k,v in enumerate(title_unique)}\n",
    "genre_to_idx = {v:k for k,v in enumerate(genre_unique)}"
   ]
  },
  {
   "cell_type": "code",
   "execution_count": 15,
   "metadata": {
    "colab": {
     "base_uri": "https://localhost:8080/"
    },
    "executionInfo": {
     "elapsed": 3,
     "status": "ok",
     "timestamp": 1662034198533,
     "user": {
      "displayName": "곽민기",
      "userId": "11982204351407286297"
     },
     "user_tz": -540
    },
    "id": "ghMmz2MdnBYz",
    "outputId": "fd51360b-d5e3-4766-ca10-5c727a314357"
   },
   "outputs": [
    {
     "name": "stdout",
     "output_type": "stream",
     "text": [
      "6039\n",
      "175\n",
      "75\n"
     ]
    }
   ],
   "source": [
    "# 인덱싱이 잘 되었는지 확인해 봅니다. \n",
    "print(user_to_idx['minki'])    # 6040명의 유저 중 마지막으로 추가된 유저이니 6039이 나와야 합니다. \n",
    "print(title_to_idx['Men in Black (1997)'])\n",
    "print(genre_to_idx['Action|Adventure|Comedy|Sci-Fi'])"
   ]
  },
  {
   "cell_type": "code",
   "execution_count": 16,
   "metadata": {
    "colab": {
     "base_uri": "https://localhost:8080/",
     "height": 460
    },
    "executionInfo": {
     "elapsed": 948,
     "status": "ok",
     "timestamp": 1662034435623,
     "user": {
      "displayName": "곽민기",
      "userId": "11982204351407286297"
     },
     "user_tz": -540
    },
    "id": "lCFVudO79R5p",
    "outputId": "84ad076d-8eaf-45b3-8bf7-985316f7ae1c"
   },
   "outputs": [
    {
     "name": "stdout",
     "output_type": "stream",
     "text": [
      "user_id column indexing OK!!\n",
      "title column indexing OK!!\n",
      "genre column indexing OK!!\n"
     ]
    },
    {
     "data": {
      "text/html": [
       "<div>\n",
       "<style scoped>\n",
       "    .dataframe tbody tr th:only-of-type {\n",
       "        vertical-align: middle;\n",
       "    }\n",
       "\n",
       "    .dataframe tbody tr th {\n",
       "        vertical-align: top;\n",
       "    }\n",
       "\n",
       "    .dataframe thead th {\n",
       "        text-align: right;\n",
       "    }\n",
       "</style>\n",
       "<table border=\"1\" class=\"dataframe\">\n",
       "  <thead>\n",
       "    <tr style=\"text-align: right;\">\n",
       "      <th></th>\n",
       "      <th>user_id</th>\n",
       "      <th>movie_id</th>\n",
       "      <th>counts</th>\n",
       "      <th>timestamp</th>\n",
       "      <th>title</th>\n",
       "      <th>genre</th>\n",
       "    </tr>\n",
       "  </thead>\n",
       "  <tbody>\n",
       "    <tr>\n",
       "      <th>0</th>\n",
       "      <td>0</td>\n",
       "      <td>1193</td>\n",
       "      <td>5.0</td>\n",
       "      <td>978300760</td>\n",
       "      <td>0</td>\n",
       "      <td>0</td>\n",
       "    </tr>\n",
       "    <tr>\n",
       "      <th>1</th>\n",
       "      <td>1</td>\n",
       "      <td>1193</td>\n",
       "      <td>5.0</td>\n",
       "      <td>978298413</td>\n",
       "      <td>0</td>\n",
       "      <td>0</td>\n",
       "    </tr>\n",
       "    <tr>\n",
       "      <th>2</th>\n",
       "      <td>2</td>\n",
       "      <td>1193</td>\n",
       "      <td>4.0</td>\n",
       "      <td>978220179</td>\n",
       "      <td>0</td>\n",
       "      <td>0</td>\n",
       "    </tr>\n",
       "    <tr>\n",
       "      <th>3</th>\n",
       "      <td>3</td>\n",
       "      <td>1193</td>\n",
       "      <td>4.0</td>\n",
       "      <td>978199279</td>\n",
       "      <td>0</td>\n",
       "      <td>0</td>\n",
       "    </tr>\n",
       "    <tr>\n",
       "      <th>4</th>\n",
       "      <td>4</td>\n",
       "      <td>1193</td>\n",
       "      <td>5.0</td>\n",
       "      <td>978158471</td>\n",
       "      <td>0</td>\n",
       "      <td>0</td>\n",
       "    </tr>\n",
       "    <tr>\n",
       "      <th>...</th>\n",
       "      <td>...</td>\n",
       "      <td>...</td>\n",
       "      <td>...</td>\n",
       "      <td>...</td>\n",
       "      <td>...</td>\n",
       "      <td>...</td>\n",
       "    </tr>\n",
       "    <tr>\n",
       "      <th>0</th>\n",
       "      <td>6039</td>\n",
       "      <td>1580</td>\n",
       "      <td>5.0</td>\n",
       "      <td>1046454590</td>\n",
       "      <td>175</td>\n",
       "      <td>75</td>\n",
       "    </tr>\n",
       "    <tr>\n",
       "      <th>1</th>\n",
       "      <td>6039</td>\n",
       "      <td>356</td>\n",
       "      <td>5.0</td>\n",
       "      <td>1046454590</td>\n",
       "      <td>160</td>\n",
       "      <td>69</td>\n",
       "    </tr>\n",
       "    <tr>\n",
       "      <th>2</th>\n",
       "      <td>6039</td>\n",
       "      <td>1</td>\n",
       "      <td>5.0</td>\n",
       "      <td>1046454590</td>\n",
       "      <td>40</td>\n",
       "      <td>3</td>\n",
       "    </tr>\n",
       "    <tr>\n",
       "      <th>3</th>\n",
       "      <td>6039</td>\n",
       "      <td>480</td>\n",
       "      <td>5.0</td>\n",
       "      <td>1046454590</td>\n",
       "      <td>107</td>\n",
       "      <td>52</td>\n",
       "    </tr>\n",
       "    <tr>\n",
       "      <th>4</th>\n",
       "      <td>6039</td>\n",
       "      <td>1721</td>\n",
       "      <td>5.0</td>\n",
       "      <td>1046454590</td>\n",
       "      <td>27</td>\n",
       "      <td>18</td>\n",
       "    </tr>\n",
       "  </tbody>\n",
       "</table>\n",
       "<p>836483 rows × 6 columns</p>\n",
       "</div>"
      ],
      "text/plain": [
       "    user_id movie_id  counts   timestamp  title  genre\n",
       "0         0     1193     5.0   978300760      0      0\n",
       "1         1     1193     5.0   978298413      0      0\n",
       "2         2     1193     4.0   978220179      0      0\n",
       "3         3     1193     4.0   978199279      0      0\n",
       "4         4     1193     5.0   978158471      0      0\n",
       "..      ...      ...     ...         ...    ...    ...\n",
       "0      6039     1580     5.0  1046454590    175     75\n",
       "1      6039      356     5.0  1046454590    160     69\n",
       "2      6039        1     5.0  1046454590     40      3\n",
       "3      6039      480     5.0  1046454590    107     52\n",
       "4      6039     1721     5.0  1046454590     27     18\n",
       "\n",
       "[836483 rows x 6 columns]"
      ]
     },
     "execution_count": 16,
     "metadata": {},
     "output_type": "execute_result"
    }
   ],
   "source": [
    "# indexing을 통해 데이터 컬럼 내 값을 바꾸는 코드\n",
    "# dictionary 자료형의 get 함수는 https://wikidocs.net/16 을 참고하세요.\n",
    "\n",
    "# user_to_idx.get을 통해 user_id 컬럼의 모든 값을 인덱싱한 Series를 구해 봅시다. \n",
    "# 혹시 정상적으로 인덱싱되지 않은 row가 있다면 인덱스가 NaN이 될 테니 dropna()로 제거합니다. \n",
    "temp_user_data = movies_ratings['user_id'].map(user_to_idx.get).dropna()\n",
    "if len(temp_user_data) == len(movies_ratings):   # 모든 row가 정상적으로 인덱싱되었다면\n",
    "    print('user_id column indexing OK!!')\n",
    "    movies_ratings['user_id'] = temp_user_data   # movies_ratings['user_id']을 인덱싱된 Series로 교체해 줍니다. \n",
    "else:\n",
    "    print('user_id column indexing Fail!!')\n",
    "\n",
    "# title_to_idx을 통해 title 컬럼도 동일한 방식으로 인덱싱해 줍니다. \n",
    "temp_title_data = movies_ratings['title'].map(title_to_idx.get).dropna()\n",
    "if len(temp_title_data) == len(movies_ratings):\n",
    "    print('title column indexing OK!!')\n",
    "    movies_ratings['title'] = temp_title_data\n",
    "else:\n",
    "    print('title column indexing Fail!!')\n",
    "    \n",
    "temp_genre_data = movies_ratings['genre'].map(genre_to_idx.get).dropna()\n",
    "if len(temp_genre_data) == len(movies_ratings):\n",
    "    print('genre column indexing OK!!')\n",
    "    movies_ratings['genre'] = temp_genre_data\n",
    "else:\n",
    "    print('genre column indexing Fail!!') \n",
    "\n",
    "movies_ratings"
   ]
  },
  {
   "cell_type": "code",
   "execution_count": 17,
   "metadata": {
    "colab": {
     "base_uri": "https://localhost:8080/",
     "height": 414
    },
    "executionInfo": {
     "elapsed": 401,
     "status": "error",
     "timestamp": 1662035184449,
     "user": {
      "displayName": "곽민기",
      "userId": "11982204351407286297"
     },
     "user_tz": -540
    },
    "id": "0aDtRIOL-fDr",
    "outputId": "4eaab45c-fffc-488a-9180-48ca8088b002"
   },
   "outputs": [
    {
     "data": {
      "text/plain": [
       "<6040x3628 sparse matrix of type '<class 'numpy.float64'>'\n",
       "\twith 836483 stored elements in Compressed Sparse Row format>"
      ]
     },
     "execution_count": 17,
     "metadata": {},
     "output_type": "execute_result"
    }
   ],
   "source": [
    "# CSR matrix\n",
    "from scipy.sparse import csr_matrix\n",
    "\n",
    "num_user = movies_ratings['user_id'].nunique()\n",
    "num_title = movies_ratings['title'].nunique()\n",
    "\n",
    "csr_movies_ratings = csr_matrix((movies_ratings.counts, (movies_ratings.user_id, movies_ratings.title)), shape= (num_user, num_title))\n",
    "csr_movies_ratings"
   ]
  },
  {
   "cell_type": "code",
   "execution_count": 18,
   "metadata": {},
   "outputs": [],
   "source": [
    "# Implicit AlternatingLeastSquares 모델의 선언\n",
    "als_model = AlternatingLeastSquares(factors=100, regularization=0.01, use_gpu=False, iterations=15, dtype=np.float32)"
   ]
  },
  {
   "cell_type": "code",
   "execution_count": 19,
   "metadata": {},
   "outputs": [
    {
     "data": {
      "text/plain": [
       "<3628x6040 sparse matrix of type '<class 'numpy.float64'>'\n",
       "\twith 836483 stored elements in Compressed Sparse Column format>"
      ]
     },
     "execution_count": 19,
     "metadata": {},
     "output_type": "execute_result"
    }
   ],
   "source": [
    "# als 모델은 input으로 (item X user 꼴의 matrix를 받기 때문에 Transpose해줍니다.)\n",
    "csr_movies_ratings_transpose = csr_movies_ratings.T\n",
    "csr_movies_ratings_transpose"
   ]
  },
  {
   "cell_type": "code",
   "execution_count": 20,
   "metadata": {},
   "outputs": [
    {
     "data": {
      "application/vnd.jupyter.widget-view+json": {
       "model_id": "8462bc1c72b647c4927d06259e1f1931",
       "version_major": 2,
       "version_minor": 0
      },
      "text/plain": [
       "  0%|          | 0/15 [00:00<?, ?it/s]"
      ]
     },
     "metadata": {},
     "output_type": "display_data"
    }
   ],
   "source": [
    "# 모델 훈련\n",
    "als_model.fit(csr_movies_ratings_transpose)"
   ]
  },
  {
   "cell_type": "code",
   "execution_count": 21,
   "metadata": {},
   "outputs": [
    {
     "name": "stdout",
     "output_type": "stream",
     "text": [
      "슝=3\n"
     ]
    }
   ],
   "source": [
    "# 내가 선호하는 영화에 대한 모델이 예측한 나의 선호도\n",
    "minki, Titanic = user_to_idx['minki'], title_to_idx['Titanic (1997)']\n",
    "minki_vector, Titanic_vector = als_model.user_factors[minki], als_model.item_factors[Titanic]\n",
    "\n",
    "print('슝=3')"
   ]
  },
  {
   "cell_type": "code",
   "execution_count": 22,
   "metadata": {},
   "outputs": [
    {
     "data": {
      "text/plain": [
       "array([ 0.84054244,  0.00196984, -0.42653146, -0.15589356,  0.645996  ,\n",
       "       -0.16499314, -0.6079522 , -0.11688709,  0.15930124, -0.79022574,\n",
       "        0.1654739 , -0.01021648, -0.09260057, -1.1672165 , -0.17992234,\n",
       "       -0.06444978,  0.35414726,  0.7098924 ,  0.5102803 ,  0.34505367,\n",
       "        0.32053933, -0.24353412,  0.07792471, -0.40633824, -0.02008162,\n",
       "       -0.12239581, -0.31847304, -0.47422296,  0.48439214,  0.12336157,\n",
       "        0.3177505 , -0.9037151 , -0.4387975 , -0.57887405,  0.76619464,\n",
       "       -0.12581202,  0.32570672, -0.18653814,  0.32693073, -0.31852078,\n",
       "       -0.98970354,  0.40977386, -0.19386944, -0.11994619,  0.44541693,\n",
       "       -0.4105391 ,  0.70692694,  0.4372584 ,  0.08368804, -0.0682173 ,\n",
       "        0.15148896, -0.32856798,  0.30232784, -0.183604  ,  1.2607722 ,\n",
       "       -0.44918573, -1.2463961 ,  0.06791706,  0.14695202,  0.26198015,\n",
       "        0.539811  , -0.5901391 , -0.5513191 , -0.9516208 ,  0.03942779,\n",
       "       -0.13418281, -0.9253897 ,  0.60668755, -0.6815259 ,  1.1648773 ,\n",
       "       -0.62940776, -0.36249498,  0.5752823 , -0.62447524,  0.3037577 ,\n",
       "        1.3882301 , -0.37117898,  0.25256124,  0.41675335,  0.31620967,\n",
       "        0.5314858 , -0.18667293,  0.0181907 ,  0.7273086 ,  0.6229993 ,\n",
       "        0.79742134,  0.35570264, -0.192176  ,  0.18256077,  0.10218503,\n",
       "       -0.4659957 , -0.499197  , -0.47674584,  0.53662574,  0.8129017 ,\n",
       "       -0.92436576, -0.11543122, -0.14212552,  0.03186511,  1.1720684 ],\n",
       "      dtype=float32)"
      ]
     },
     "execution_count": 22,
     "metadata": {},
     "output_type": "execute_result"
    }
   ],
   "source": [
    "minki_vector"
   ]
  },
  {
   "cell_type": "code",
   "execution_count": 23,
   "metadata": {},
   "outputs": [
    {
     "data": {
      "text/plain": [
       "array([-0.00322732, -0.00128015, -0.00891205,  0.02712655,  0.01806442,\n",
       "        0.02103037,  0.00410982,  0.00380903,  0.02327291, -0.03156209,\n",
       "       -0.03509643, -0.00120641, -0.03293729, -0.0254002 , -0.03497734,\n",
       "        0.00245053, -0.00408059,  0.05363548,  0.01558309,  0.05036492,\n",
       "        0.01696417,  0.00457572,  0.02691196, -0.01401375,  0.0341438 ,\n",
       "       -0.00943946,  0.01477335, -0.01181838, -0.01464355,  0.01465671,\n",
       "        0.00903289, -0.01049487,  0.02634182, -0.00169256,  0.01522245,\n",
       "       -0.0201042 ,  0.02708454, -0.00231266,  0.01795178, -0.00538404,\n",
       "        0.01418212,  0.03491827, -0.02642993, -0.00809844,  0.0274773 ,\n",
       "       -0.01658611,  0.04828802, -0.01326014,  0.02198431, -0.01270995,\n",
       "        0.00628138,  0.00556415,  0.03516948,  0.00967126,  0.0363859 ,\n",
       "        0.00253263, -0.0302861 ,  0.00302227, -0.01965098,  0.00455292,\n",
       "        0.03071934, -0.02411356, -0.01363382, -0.01692946,  0.01058077,\n",
       "        0.0233086 , -0.02407791,  0.01482288,  0.02022628, -0.01362042,\n",
       "        0.00068361,  0.02538073,  0.0208983 ,  0.01801301,  0.00564687,\n",
       "        0.01166087, -0.01018269,  0.02425543,  0.02320422,  0.02714279,\n",
       "        0.04197133,  0.00432273,  0.01820736, -0.00169202,  0.04493221,\n",
       "        0.031941  ,  0.00188181, -0.01959211,  0.02026357, -0.01535994,\n",
       "       -0.0427613 ,  0.00252763, -0.00825517,  0.00909207,  0.01182644,\n",
       "        0.01253369, -0.01327416,  0.00925996,  0.0135966 ,  0.0611198 ],\n",
       "      dtype=float32)"
      ]
     },
     "execution_count": 23,
     "metadata": {},
     "output_type": "execute_result"
    }
   ],
   "source": [
    "Titanic_vector"
   ]
  },
  {
   "cell_type": "code",
   "execution_count": 24,
   "metadata": {},
   "outputs": [
    {
     "data": {
      "text/plain": [
       "0.5811807"
      ]
     },
     "execution_count": 24,
     "metadata": {},
     "output_type": "execute_result"
    }
   ],
   "source": [
    "# 나의 Titanic에 대한 선호도\n",
    "np.dot(minki_vector, Titanic_vector)"
   ]
  },
  {
   "cell_type": "code",
   "execution_count": 25,
   "metadata": {},
   "outputs": [
    {
     "data": {
      "text/plain": [
       "0.056161396"
      ]
     },
     "execution_count": 25,
     "metadata": {},
     "output_type": "execute_result"
    }
   ],
   "source": [
    "# 나의 E.T.에 대한 선호도\n",
    "ET = title_to_idx['E.T. the Extra-Terrestrial (1982)']\n",
    "ET_vector = als_model.item_factors[ET]\n",
    "np.dot(minki_vector, ET_vector)"
   ]
  },
  {
   "cell_type": "markdown",
   "metadata": {},
   "source": [
    "### 비슷한 영화 찾기"
   ]
  },
  {
   "cell_type": "code",
   "execution_count": 26,
   "metadata": {},
   "outputs": [
    {
     "data": {
      "text/plain": [
       "[(175, 1.0),\n",
       " (107, 0.8559934),\n",
       " (92, 0.6333183),\n",
       " (62, 0.5942207),\n",
       " (150, 0.54666483),\n",
       " (124, 0.49795136),\n",
       " (82, 0.460491),\n",
       " (145, 0.45336866),\n",
       " (375, 0.44874397),\n",
       " (3466, 0.41347662),\n",
       " (138, 0.40194064),\n",
       " (179, 0.3766734),\n",
       " (544, 0.37020442),\n",
       " (542, 0.36233276),\n",
       " (2748, 0.35067904)]"
      ]
     },
     "execution_count": 26,
     "metadata": {},
     "output_type": "execute_result"
    }
   ],
   "source": [
    "# Men in Black (1997)\n",
    "favorite_title = 'Men in Black (1997)'\n",
    "title = title_to_idx[favorite_title]\n",
    "similar_title = als_model.similar_items(title, N=15)\n",
    "similar_title"
   ]
  },
  {
   "cell_type": "code",
   "execution_count": 27,
   "metadata": {},
   "outputs": [
    {
     "data": {
      "text/plain": [
       "['Men in Black (1997)',\n",
       " 'Jurassic Park (1993)',\n",
       " 'Terminator 2: Judgment Day (1991)',\n",
       " 'Total Recall (1990)',\n",
       " 'Independence Day (ID4) (1996)',\n",
       " 'Matrix, The (1999)',\n",
       " 'Lost World: Jurassic Park, The (1997)',\n",
       " 'Fifth Element, The (1997)',\n",
       " 'Face/Off (1997)',\n",
       " 'Schlafes Bruder (Brother of Sleep) (1995)',\n",
       " 'True Lies (1994)',\n",
       " 'Rock, The (1996)',\n",
       " 'Stargate (1994)',\n",
       " 'Rocky Horror Picture Show, The (1975)',\n",
       " 'Bewegte Mann, Der (1994)']"
      ]
     },
     "execution_count": 27,
     "metadata": {},
     "output_type": "execute_result"
    }
   ],
   "source": [
    "#title_to_idx 를 뒤집어, index로부터 title 이름을 얻는 dict를 생성합니다. \n",
    "idx_to_title = {v:k for k,v in title_to_idx.items()}\n",
    "[idx_to_title[i[0]] for i in similar_title]"
   ]
  },
  {
   "cell_type": "code",
   "execution_count": 28,
   "metadata": {},
   "outputs": [
    {
     "name": "stdout",
     "output_type": "stream",
     "text": [
      "슝=3\n"
     ]
    }
   ],
   "source": [
    "# 위의 과정을 함수로 저장\n",
    "def get_similar_title(title_name: str):\n",
    "    title = title_to_idx[title_name]\n",
    "    similar_title = als_model.similar_items(title)\n",
    "    similar_title = [idx_to_title[i[0]] for i in similar_title]\n",
    "    return similar_title\n",
    "\n",
    "print(\"슝=3\")"
   ]
  },
  {
   "cell_type": "code",
   "execution_count": 29,
   "metadata": {},
   "outputs": [
    {
     "data": {
      "text/plain": [
       "['Tarzan (1999)',\n",
       " 'Mulan (1998)',\n",
       " 'Hunchback of Notre Dame, The (1996)',\n",
       " 'Hercules (1997)',\n",
       " 'Anastasia (1997)',\n",
       " 'Pocahontas (1995)',\n",
       " 'Balto (1995)',\n",
       " 'Lion King, The (1994)',\n",
       " 'Rescuers Down Under, The (1990)',\n",
       " 'Antz (1998)']"
      ]
     },
     "execution_count": 29,
     "metadata": {},
     "output_type": "execute_result"
    }
   ],
   "source": [
    "# Tarzan (1999)\n",
    "get_similar_title('Tarzan (1999)')"
   ]
  },
  {
   "cell_type": "markdown",
   "metadata": {},
   "source": [
    "### 유저에게 영화 추천하기"
   ]
  },
  {
   "cell_type": "code",
   "execution_count": 30,
   "metadata": {},
   "outputs": [
    {
     "data": {
      "text/plain": [
       "[(50, 0.4140494),\n",
       " (92, 0.40915257),\n",
       " (87, 0.34709936),\n",
       " (110, 0.34257144),\n",
       " (150, 0.3166988),\n",
       " (124, 0.30618912),\n",
       " (60, 0.29382613),\n",
       " (322, 0.27804264),\n",
       " (154, 0.26856533),\n",
       " (48, 0.25979078),\n",
       " (22, 0.25371313),\n",
       " (64, 0.25214496),\n",
       " (62, 0.24960685),\n",
       " (33, 0.24362391),\n",
       " (330, 0.2405965),\n",
       " (99, 0.24050951),\n",
       " (116, 0.24009827),\n",
       " (38, 0.23518185),\n",
       " (15, 0.23065555),\n",
       " (20, 0.220768)]"
      ]
     },
     "execution_count": 30,
     "metadata": {},
     "output_type": "execute_result"
    }
   ],
   "source": [
    "user = user_to_idx['minki']\n",
    "# recommend에서는 user*item CSR Matrix를 받습니다.\n",
    "title_recommended = als_model.recommend(user, csr_movies_ratings, N=20, filter_already_liked_items=True)\n",
    "title_recommended"
   ]
  },
  {
   "cell_type": "code",
   "execution_count": 31,
   "metadata": {},
   "outputs": [
    {
     "data": {
      "text/plain": [
       "['Toy Story 2 (1999)',\n",
       " 'Terminator 2: Judgment Day (1991)',\n",
       " 'Braveheart (1995)',\n",
       " 'Groundhog Day (1993)',\n",
       " 'Independence Day (ID4) (1996)',\n",
       " 'Matrix, The (1999)',\n",
       " 'Star Wars: Episode I - The Phantom Menace (1999)',\n",
       " 'Babe (1995)',\n",
       " 'As Good As It Gets (1997)',\n",
       " 'Saving Private Ryan (1998)',\n",
       " 'Back to the Future (1985)',\n",
       " 'Star Wars: Episode VI - Return of the Jedi (1983)',\n",
       " 'Total Recall (1990)',\n",
       " 'Aladdin (1992)',\n",
       " 'Lion King, The (1994)',\n",
       " 'American Beauty (1999)',\n",
       " 'Dances with Wolves (1990)',\n",
       " 'Sixth Sense, The (1999)',\n",
       " 'Airplane! (1980)',\n",
       " 'Pleasantville (1998)']"
      ]
     },
     "execution_count": 31,
     "metadata": {},
     "output_type": "execute_result"
    }
   ],
   "source": [
    "[idx_to_title[i[0]] for i in title_recommended]"
   ]
  },
  {
   "cell_type": "code",
   "execution_count": 32,
   "metadata": {},
   "outputs": [],
   "source": [
    "# 추천에 기여한 정도를 확인\n",
    "Terminator_2 = title_to_idx['Terminator 2: Judgment Day (1991)']\n",
    "explain = als_model.explain(user, csr_movies_ratings, itemid=Terminator_2)"
   ]
  },
  {
   "cell_type": "code",
   "execution_count": 33,
   "metadata": {},
   "outputs": [
    {
     "data": {
      "text/plain": [
       "[('Jurassic Park (1993)', 0.21560856655651567),\n",
       " ('Men in Black (1997)', 0.1679387907659144),\n",
       " ('Toy Story (1995)', 0.051450299311207565),\n",
       " ('Forrest Gump (1994)', -0.013099231340139402),\n",
       " ('Titanic (1997)', -0.01711478463153937)]"
      ]
     },
     "execution_count": 33,
     "metadata": {},
     "output_type": "execute_result"
    }
   ],
   "source": [
    "[(idx_to_title[i[0]], i[1]) for i in explain[1]]"
   ]
  },
  {
   "cell_type": "markdown",
   "metadata": {},
   "source": [
    "### 회고\n",
    "- 내가 좋아하는 영화에 대한 데이터를 데이터프레임에 추가할 때 노드에서 했던 것보다 추가해야되는게 많아서 좀 힘들었음\n",
    "- 내가 좋아하는 영화와 나의 내적 벡터가 0.55 정도로 1이 아니지만 추천을 받았을 때 생각보다 나쁘지 않게 나옴\n",
    "- 내가 좋아하는 영화를 추가할 때 영화 장르를 다양하게 넣었는데 만약 장르를 어느 정도 고정해서 추가한다면 결과가 더 잘나오지 않을까 생각함"
   ]
  }
 ],
 "metadata": {
  "colab": {
   "authorship_tag": "ABX9TyOePVwhFE/FyORgLWOSLugR",
   "collapsed_sections": [],
   "mount_file_id": "1YlFhEukX6k9dC9h7AzwKLvVOVYXzuaVE",
   "provenance": []
  },
  "kernelspec": {
   "display_name": "Python 3 (ipykernel)",
   "language": "python",
   "name": "python3"
  },
  "language_info": {
   "codemirror_mode": {
    "name": "ipython",
    "version": 3
   },
   "file_extension": ".py",
   "mimetype": "text/x-python",
   "name": "python",
   "nbconvert_exporter": "python",
   "pygments_lexer": "ipython3",
   "version": "3.9.7"
  }
 },
 "nbformat": 4,
 "nbformat_minor": 1
}
